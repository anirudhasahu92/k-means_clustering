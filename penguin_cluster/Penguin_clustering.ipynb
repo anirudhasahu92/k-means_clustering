{
 "cells": [
  {
   "cell_type": "code",
   "execution_count": 1,
   "id": "1847b568",
   "metadata": {},
   "outputs": [],
   "source": [
    "# About the dataset:\n",
    "\n",
    "# The dataset consists of 5 columns:\n",
    "# culmen_length_mm: culmen length (mm)\n",
    "# culmen_depth_mm: culmen depth (mm)\n",
    "# flipper_length_mm: flipper length (mm)\n",
    "# body_mass_g: body mass (g)\n",
    "# sex: penguin sex"
   ]
  },
  {
   "cell_type": "code",
   "execution_count": 2,
   "id": "6327e3bd",
   "metadata": {},
   "outputs": [],
   "source": [
    "# Based on the above features we are going to cluster the penguins. Once the penguins are clustered we can do EDA to \n",
    "# determine explict features and compare in between the clusters"
   ]
  },
  {
   "cell_type": "code",
   "execution_count": 3,
   "id": "b5f3e166",
   "metadata": {},
   "outputs": [],
   "source": [
    "# Importing all the necessary libraries\n",
    "import numpy as np\n",
    "import pandas as pd \n",
    "import matplotlib.pyplot as plt\n",
    "import seaborn as sns\n",
    "import warnings  \n",
    "warnings.filterwarnings(\"ignore\")"
   ]
  },
  {
   "cell_type": "code",
   "execution_count": 4,
   "id": "9b76137c",
   "metadata": {},
   "outputs": [
    {
     "data": {
      "text/html": [
       "<div>\n",
       "<style scoped>\n",
       "    .dataframe tbody tr th:only-of-type {\n",
       "        vertical-align: middle;\n",
       "    }\n",
       "\n",
       "    .dataframe tbody tr th {\n",
       "        vertical-align: top;\n",
       "    }\n",
       "\n",
       "    .dataframe thead th {\n",
       "        text-align: right;\n",
       "    }\n",
       "</style>\n",
       "<table border=\"1\" class=\"dataframe\">\n",
       "  <thead>\n",
       "    <tr style=\"text-align: right;\">\n",
       "      <th></th>\n",
       "      <th>culmen_length_mm</th>\n",
       "      <th>culmen_depth_mm</th>\n",
       "      <th>flipper_length_mm</th>\n",
       "      <th>body_mass_g</th>\n",
       "      <th>sex</th>\n",
       "    </tr>\n",
       "  </thead>\n",
       "  <tbody>\n",
       "    <tr>\n",
       "      <th>0</th>\n",
       "      <td>39.1</td>\n",
       "      <td>18.7</td>\n",
       "      <td>181.0</td>\n",
       "      <td>3750.0</td>\n",
       "      <td>MALE</td>\n",
       "    </tr>\n",
       "    <tr>\n",
       "      <th>1</th>\n",
       "      <td>39.5</td>\n",
       "      <td>17.4</td>\n",
       "      <td>186.0</td>\n",
       "      <td>3800.0</td>\n",
       "      <td>FEMALE</td>\n",
       "    </tr>\n",
       "    <tr>\n",
       "      <th>2</th>\n",
       "      <td>40.3</td>\n",
       "      <td>18.0</td>\n",
       "      <td>195.0</td>\n",
       "      <td>3250.0</td>\n",
       "      <td>FEMALE</td>\n",
       "    </tr>\n",
       "    <tr>\n",
       "      <th>3</th>\n",
       "      <td>NaN</td>\n",
       "      <td>NaN</td>\n",
       "      <td>NaN</td>\n",
       "      <td>NaN</td>\n",
       "      <td>NaN</td>\n",
       "    </tr>\n",
       "    <tr>\n",
       "      <th>4</th>\n",
       "      <td>36.7</td>\n",
       "      <td>19.3</td>\n",
       "      <td>193.0</td>\n",
       "      <td>3450.0</td>\n",
       "      <td>FEMALE</td>\n",
       "    </tr>\n",
       "  </tbody>\n",
       "</table>\n",
       "</div>"
      ],
      "text/plain": [
       "   culmen_length_mm  culmen_depth_mm  flipper_length_mm  body_mass_g     sex\n",
       "0              39.1             18.7              181.0       3750.0    MALE\n",
       "1              39.5             17.4              186.0       3800.0  FEMALE\n",
       "2              40.3             18.0              195.0       3250.0  FEMALE\n",
       "3               NaN              NaN                NaN          NaN     NaN\n",
       "4              36.7             19.3              193.0       3450.0  FEMALE"
      ]
     },
     "execution_count": 4,
     "metadata": {},
     "output_type": "execute_result"
    }
   ],
   "source": [
    "# Importing data from the csv file:\n",
    "df = pd.read_csv('penguins.csv')\n",
    "df.head()"
   ]
  },
  {
   "cell_type": "code",
   "execution_count": 5,
   "id": "e9ca3a55",
   "metadata": {},
   "outputs": [
    {
     "data": {
      "text/plain": [
       "(344, 5)"
      ]
     },
     "execution_count": 5,
     "metadata": {},
     "output_type": "execute_result"
    }
   ],
   "source": [
    "# Checking the number of rows and columns\n",
    "df.shape"
   ]
  },
  {
   "cell_type": "code",
   "execution_count": 6,
   "id": "feed4196",
   "metadata": {},
   "outputs": [
    {
     "data": {
      "text/plain": [
       "culmen_length_mm     2\n",
       "culmen_depth_mm      2\n",
       "flipper_length_mm    2\n",
       "body_mass_g          2\n",
       "sex                  9\n",
       "dtype: int64"
      ]
     },
     "execution_count": 6,
     "metadata": {},
     "output_type": "execute_result"
    }
   ],
   "source": [
    "# Checking for null values\n",
    "df.isnull().sum()"
   ]
  },
  {
   "cell_type": "code",
   "execution_count": 7,
   "id": "369cf0d3",
   "metadata": {},
   "outputs": [],
   "source": [
    "# Dropping the null values\n",
    "df = df.dropna()"
   ]
  },
  {
   "cell_type": "code",
   "execution_count": 8,
   "id": "03e9d3b7",
   "metadata": {},
   "outputs": [
    {
     "data": {
      "text/plain": [
       "culmen_length_mm     0\n",
       "culmen_depth_mm      0\n",
       "flipper_length_mm    0\n",
       "body_mass_g          0\n",
       "sex                  0\n",
       "dtype: int64"
      ]
     },
     "execution_count": 8,
     "metadata": {},
     "output_type": "execute_result"
    }
   ],
   "source": [
    "df.isnull().sum()"
   ]
  },
  {
   "cell_type": "code",
   "execution_count": 9,
   "id": "f096c493",
   "metadata": {},
   "outputs": [
    {
     "name": "stdout",
     "output_type": "stream",
     "text": [
      "<class 'pandas.core.frame.DataFrame'>\n",
      "Int64Index: 335 entries, 0 to 343\n",
      "Data columns (total 5 columns):\n",
      " #   Column             Non-Null Count  Dtype  \n",
      "---  ------             --------------  -----  \n",
      " 0   culmen_length_mm   335 non-null    float64\n",
      " 1   culmen_depth_mm    335 non-null    float64\n",
      " 2   flipper_length_mm  335 non-null    float64\n",
      " 3   body_mass_g        335 non-null    float64\n",
      " 4   sex                335 non-null    object \n",
      "dtypes: float64(4), object(1)\n",
      "memory usage: 15.7+ KB\n"
     ]
    }
   ],
   "source": [
    "# checking the data type and nulls\n",
    "df.info()"
   ]
  },
  {
   "cell_type": "code",
   "execution_count": 10,
   "id": "24c52b67",
   "metadata": {},
   "outputs": [
    {
     "data": {
      "text/html": [
       "<div>\n",
       "<style scoped>\n",
       "    .dataframe tbody tr th:only-of-type {\n",
       "        vertical-align: middle;\n",
       "    }\n",
       "\n",
       "    .dataframe tbody tr th {\n",
       "        vertical-align: top;\n",
       "    }\n",
       "\n",
       "    .dataframe thead th {\n",
       "        text-align: right;\n",
       "    }\n",
       "</style>\n",
       "<table border=\"1\" class=\"dataframe\">\n",
       "  <thead>\n",
       "    <tr style=\"text-align: right;\">\n",
       "      <th></th>\n",
       "      <th>culmen_length_mm</th>\n",
       "      <th>culmen_depth_mm</th>\n",
       "      <th>flipper_length_mm</th>\n",
       "      <th>body_mass_g</th>\n",
       "      <th>sex</th>\n",
       "    </tr>\n",
       "  </thead>\n",
       "  <tbody>\n",
       "    <tr>\n",
       "      <th>0</th>\n",
       "      <td>39.1</td>\n",
       "      <td>18.7</td>\n",
       "      <td>181.0</td>\n",
       "      <td>3750.0</td>\n",
       "      <td>MALE</td>\n",
       "    </tr>\n",
       "    <tr>\n",
       "      <th>1</th>\n",
       "      <td>39.5</td>\n",
       "      <td>17.4</td>\n",
       "      <td>186.0</td>\n",
       "      <td>3800.0</td>\n",
       "      <td>FEMALE</td>\n",
       "    </tr>\n",
       "    <tr>\n",
       "      <th>2</th>\n",
       "      <td>40.3</td>\n",
       "      <td>18.0</td>\n",
       "      <td>195.0</td>\n",
       "      <td>3250.0</td>\n",
       "      <td>FEMALE</td>\n",
       "    </tr>\n",
       "    <tr>\n",
       "      <th>4</th>\n",
       "      <td>36.7</td>\n",
       "      <td>19.3</td>\n",
       "      <td>193.0</td>\n",
       "      <td>3450.0</td>\n",
       "      <td>FEMALE</td>\n",
       "    </tr>\n",
       "    <tr>\n",
       "      <th>5</th>\n",
       "      <td>39.3</td>\n",
       "      <td>20.6</td>\n",
       "      <td>190.0</td>\n",
       "      <td>3650.0</td>\n",
       "      <td>MALE</td>\n",
       "    </tr>\n",
       "  </tbody>\n",
       "</table>\n",
       "</div>"
      ],
      "text/plain": [
       "   culmen_length_mm  culmen_depth_mm  flipper_length_mm  body_mass_g     sex\n",
       "0              39.1             18.7              181.0       3750.0    MALE\n",
       "1              39.5             17.4              186.0       3800.0  FEMALE\n",
       "2              40.3             18.0              195.0       3250.0  FEMALE\n",
       "4              36.7             19.3              193.0       3450.0  FEMALE\n",
       "5              39.3             20.6              190.0       3650.0    MALE"
      ]
     },
     "execution_count": 10,
     "metadata": {},
     "output_type": "execute_result"
    }
   ],
   "source": [
    "# checking back the data once more after data cleaning:\n",
    "df.head()"
   ]
  },
  {
   "cell_type": "code",
   "execution_count": 11,
   "id": "c59ca131",
   "metadata": {
    "scrolled": true
   },
   "outputs": [
    {
     "data": {
      "image/png": "[encoded data removed]",
      "text/plain": [
       "<Figure size 640x480 with 1 Axes>"
      ]
     },
     "metadata": {},
     "output_type": "display_data"
    },
    {
     "data": {
      "image/png": "[encoded data removed]",
      "text/plain": [
       "<Figure size 640x480 with 1 Axes>"
      ]
     },
     "metadata": {},
     "output_type": "display_data"
    },
    {
     "data": {
      "image/png": "[encoded data removed]",
      "text/plain": [
       "<Figure size 640x480 with 1 Axes>"
      ]
     },
     "metadata": {},
     "output_type": "display_data"
    },
    {
     "data": {
      "image/png": "[encoded data removed]",
      "text/plain": [
       "<Figure size 640x480 with 1 Axes>"
      ]
     },
     "metadata": {},
     "output_type": "display_data"
    }
   ],
   "source": [
    "# checking for outliers (Since outliers can badly affect our clustering):\n",
    "for col in df.columns:\n",
    "    if df[col].dtype != 'object':\n",
    "        sns.boxplot(df,x=col)\n",
    "        plt.title(col)\n",
    "        plt.show()"
   ]
  },
  {
   "cell_type": "code",
   "execution_count": 12,
   "id": "6e5a05a0",
   "metadata": {},
   "outputs": [
    {
     "data": {
      "text/plain": [
       "Index(['culmen_length_mm', 'culmen_depth_mm', 'flipper_length_mm',\n",
       "       'body_mass_g', 'sex'],\n",
       "      dtype='object')"
      ]
     },
     "execution_count": 12,
     "metadata": {},
     "output_type": "execute_result"
    }
   ],
   "source": [
    "df.columns"
   ]
  },
  {
   "cell_type": "code",
   "execution_count": 13,
   "id": "d51d4f82",
   "metadata": {},
   "outputs": [],
   "source": [
    "# treating the outliers:\n",
    "# There is only one column that has outliers.\n",
    "out_list = ['flipper_length_mm']\n",
    "for col in out_list:\n",
    "    q1 = df[col].quantile(0.25)\n",
    "    q3 = df[col].quantile(0.75)\n",
    "    iqr = q3 - q1\n",
    "    ll = q1-1.5*iqr\n",
    "    ul = q3+1.5*iqr\n",
    "    df = df[(df[col]>ll)&(df[col]<ul)]"
   ]
  },
  {
   "cell_type": "code",
   "execution_count": 14,
   "id": "79f4a148",
   "metadata": {},
   "outputs": [
    {
     "data": {
      "image/png": "[encoded data removed]",
      "text/plain": [
       "<Figure size 640x480 with 1 Axes>"
      ]
     },
     "metadata": {},
     "output_type": "display_data"
    },
    {
     "data": {
      "image/png": "[encoded data removed]",
      "text/plain": [
       "<Figure size 640x480 with 1 Axes>"
      ]
     },
     "metadata": {},
     "output_type": "display_data"
    },
    {
     "data": {
      "image/png": "[encoded data removed]",
      "text/plain": [
       "<Figure size 640x480 with 1 Axes>"
      ]
     },
     "metadata": {},
     "output_type": "display_data"
    },
    {
     "data": {
      "image/png": "[encoded data removed]",
      "text/plain": [
       "<Figure size 640x480 with 1 Axes>"
      ]
     },
     "metadata": {},
     "output_type": "display_data"
    }
   ],
   "source": [
    "# Lets check the data again:\n",
    "# checking for outliers \n",
    "for col in df.columns:\n",
    "    if df[col].dtype != 'object':\n",
    "        sns.boxplot(df,x=col)\n",
    "        plt.title(col)\n",
    "        plt.show()"
   ]
  },
  {
   "cell_type": "code",
   "execution_count": 15,
   "id": "bed03b6e",
   "metadata": {},
   "outputs": [],
   "source": [
    "# Great ! Done"
   ]
  },
  {
   "cell_type": "code",
   "execution_count": 16,
   "id": "04c55bb7",
   "metadata": {},
   "outputs": [
    {
     "data": {
      "text/html": [
       "<div>\n",
       "<style scoped>\n",
       "    .dataframe tbody tr th:only-of-type {\n",
       "        vertical-align: middle;\n",
       "    }\n",
       "\n",
       "    .dataframe tbody tr th {\n",
       "        vertical-align: top;\n",
       "    }\n",
       "\n",
       "    .dataframe thead th {\n",
       "        text-align: right;\n",
       "    }\n",
       "</style>\n",
       "<table border=\"1\" class=\"dataframe\">\n",
       "  <thead>\n",
       "    <tr style=\"text-align: right;\">\n",
       "      <th></th>\n",
       "      <th>culmen_length_mm</th>\n",
       "      <th>culmen_depth_mm</th>\n",
       "      <th>flipper_length_mm</th>\n",
       "      <th>body_mass_g</th>\n",
       "      <th>sex</th>\n",
       "    </tr>\n",
       "  </thead>\n",
       "  <tbody>\n",
       "    <tr>\n",
       "      <th>0</th>\n",
       "      <td>39.1</td>\n",
       "      <td>18.7</td>\n",
       "      <td>181.0</td>\n",
       "      <td>3750.0</td>\n",
       "      <td>MALE</td>\n",
       "    </tr>\n",
       "    <tr>\n",
       "      <th>1</th>\n",
       "      <td>39.5</td>\n",
       "      <td>17.4</td>\n",
       "      <td>186.0</td>\n",
       "      <td>3800.0</td>\n",
       "      <td>FEMALE</td>\n",
       "    </tr>\n",
       "    <tr>\n",
       "      <th>2</th>\n",
       "      <td>40.3</td>\n",
       "      <td>18.0</td>\n",
       "      <td>195.0</td>\n",
       "      <td>3250.0</td>\n",
       "      <td>FEMALE</td>\n",
       "    </tr>\n",
       "    <tr>\n",
       "      <th>4</th>\n",
       "      <td>36.7</td>\n",
       "      <td>19.3</td>\n",
       "      <td>193.0</td>\n",
       "      <td>3450.0</td>\n",
       "      <td>FEMALE</td>\n",
       "    </tr>\n",
       "    <tr>\n",
       "      <th>5</th>\n",
       "      <td>39.3</td>\n",
       "      <td>20.6</td>\n",
       "      <td>190.0</td>\n",
       "      <td>3650.0</td>\n",
       "      <td>MALE</td>\n",
       "    </tr>\n",
       "  </tbody>\n",
       "</table>\n",
       "</div>"
      ],
      "text/plain": [
       "   culmen_length_mm  culmen_depth_mm  flipper_length_mm  body_mass_g     sex\n",
       "0              39.1             18.7              181.0       3750.0    MALE\n",
       "1              39.5             17.4              186.0       3800.0  FEMALE\n",
       "2              40.3             18.0              195.0       3250.0  FEMALE\n",
       "4              36.7             19.3              193.0       3450.0  FEMALE\n",
       "5              39.3             20.6              190.0       3650.0    MALE"
      ]
     },
     "execution_count": 16,
     "metadata": {},
     "output_type": "execute_result"
    }
   ],
   "source": [
    "df.head()"
   ]
  },
  {
   "cell_type": "code",
   "execution_count": 17,
   "id": "42fd184a",
   "metadata": {},
   "outputs": [],
   "source": [
    "# Since we are clustering the data and not solving a binary problem we might not need the df['sex'] in this particular way.\n",
    "# Also clustering works with columns. So, lets split the df['sex'] into two dummy columns. This will help us in our \n",
    "# clustering. Now we can utilize the values in this column as separate columns to use it in our clustering."
   ]
  },
  {
   "cell_type": "code",
   "execution_count": 18,
   "id": "fc3308e1",
   "metadata": {},
   "outputs": [
    {
     "data": {
      "text/plain": [
       "Index(['culmen_length_mm', 'culmen_depth_mm', 'flipper_length_mm',\n",
       "       'body_mass_g', 'sex'],\n",
       "      dtype='object')"
      ]
     },
     "execution_count": 18,
     "metadata": {},
     "output_type": "execute_result"
    }
   ],
   "source": [
    "df.columns"
   ]
  },
  {
   "cell_type": "code",
   "execution_count": 19,
   "id": "2ce06ede",
   "metadata": {
    "scrolled": false
   },
   "outputs": [
    {
     "data": {
      "text/html": [
       "<div>\n",
       "<style scoped>\n",
       "    .dataframe tbody tr th:only-of-type {\n",
       "        vertical-align: middle;\n",
       "    }\n",
       "\n",
       "    .dataframe tbody tr th {\n",
       "        vertical-align: top;\n",
       "    }\n",
       "\n",
       "    .dataframe thead th {\n",
       "        text-align: right;\n",
       "    }\n",
       "</style>\n",
       "<table border=\"1\" class=\"dataframe\">\n",
       "  <thead>\n",
       "    <tr style=\"text-align: right;\">\n",
       "      <th></th>\n",
       "      <th>culmen_length_mm</th>\n",
       "      <th>culmen_depth_mm</th>\n",
       "      <th>flipper_length_mm</th>\n",
       "      <th>body_mass_g</th>\n",
       "      <th>sex_FEMALE</th>\n",
       "      <th>sex_MALE</th>\n",
       "    </tr>\n",
       "  </thead>\n",
       "  <tbody>\n",
       "    <tr>\n",
       "      <th>0</th>\n",
       "      <td>39.1</td>\n",
       "      <td>18.7</td>\n",
       "      <td>181.0</td>\n",
       "      <td>3750.0</td>\n",
       "      <td>0</td>\n",
       "      <td>1</td>\n",
       "    </tr>\n",
       "    <tr>\n",
       "      <th>1</th>\n",
       "      <td>39.5</td>\n",
       "      <td>17.4</td>\n",
       "      <td>186.0</td>\n",
       "      <td>3800.0</td>\n",
       "      <td>1</td>\n",
       "      <td>0</td>\n",
       "    </tr>\n",
       "    <tr>\n",
       "      <th>2</th>\n",
       "      <td>40.3</td>\n",
       "      <td>18.0</td>\n",
       "      <td>195.0</td>\n",
       "      <td>3250.0</td>\n",
       "      <td>1</td>\n",
       "      <td>0</td>\n",
       "    </tr>\n",
       "    <tr>\n",
       "      <th>4</th>\n",
       "      <td>36.7</td>\n",
       "      <td>19.3</td>\n",
       "      <td>193.0</td>\n",
       "      <td>3450.0</td>\n",
       "      <td>1</td>\n",
       "      <td>0</td>\n",
       "    </tr>\n",
       "    <tr>\n",
       "      <th>5</th>\n",
       "      <td>39.3</td>\n",
       "      <td>20.6</td>\n",
       "      <td>190.0</td>\n",
       "      <td>3650.0</td>\n",
       "      <td>0</td>\n",
       "      <td>1</td>\n",
       "    </tr>\n",
       "    <tr>\n",
       "      <th>...</th>\n",
       "      <td>...</td>\n",
       "      <td>...</td>\n",
       "      <td>...</td>\n",
       "      <td>...</td>\n",
       "      <td>...</td>\n",
       "      <td>...</td>\n",
       "    </tr>\n",
       "    <tr>\n",
       "      <th>338</th>\n",
       "      <td>47.2</td>\n",
       "      <td>13.7</td>\n",
       "      <td>214.0</td>\n",
       "      <td>4925.0</td>\n",
       "      <td>1</td>\n",
       "      <td>0</td>\n",
       "    </tr>\n",
       "    <tr>\n",
       "      <th>340</th>\n",
       "      <td>46.8</td>\n",
       "      <td>14.3</td>\n",
       "      <td>215.0</td>\n",
       "      <td>4850.0</td>\n",
       "      <td>1</td>\n",
       "      <td>0</td>\n",
       "    </tr>\n",
       "    <tr>\n",
       "      <th>341</th>\n",
       "      <td>50.4</td>\n",
       "      <td>15.7</td>\n",
       "      <td>222.0</td>\n",
       "      <td>5750.0</td>\n",
       "      <td>0</td>\n",
       "      <td>1</td>\n",
       "    </tr>\n",
       "    <tr>\n",
       "      <th>342</th>\n",
       "      <td>45.2</td>\n",
       "      <td>14.8</td>\n",
       "      <td>212.0</td>\n",
       "      <td>5200.0</td>\n",
       "      <td>1</td>\n",
       "      <td>0</td>\n",
       "    </tr>\n",
       "    <tr>\n",
       "      <th>343</th>\n",
       "      <td>49.9</td>\n",
       "      <td>16.1</td>\n",
       "      <td>213.0</td>\n",
       "      <td>5400.0</td>\n",
       "      <td>0</td>\n",
       "      <td>1</td>\n",
       "    </tr>\n",
       "  </tbody>\n",
       "</table>\n",
       "<p>333 rows × 6 columns</p>\n",
       "</div>"
      ],
      "text/plain": [
       "     culmen_length_mm  culmen_depth_mm  flipper_length_mm  body_mass_g  \\\n",
       "0                39.1             18.7              181.0       3750.0   \n",
       "1                39.5             17.4              186.0       3800.0   \n",
       "2                40.3             18.0              195.0       3250.0   \n",
       "4                36.7             19.3              193.0       3450.0   \n",
       "5                39.3             20.6              190.0       3650.0   \n",
       "..                ...              ...                ...          ...   \n",
       "338              47.2             13.7              214.0       4925.0   \n",
       "340              46.8             14.3              215.0       4850.0   \n",
       "341              50.4             15.7              222.0       5750.0   \n",
       "342              45.2             14.8              212.0       5200.0   \n",
       "343              49.9             16.1              213.0       5400.0   \n",
       "\n",
       "     sex_FEMALE  sex_MALE  \n",
       "0             0         1  \n",
       "1             1         0  \n",
       "2             1         0  \n",
       "4             1         0  \n",
       "5             0         1  \n",
       "..          ...       ...  \n",
       "338           1         0  \n",
       "340           1         0  \n",
       "341           0         1  \n",
       "342           1         0  \n",
       "343           0         1  \n",
       "\n",
       "[333 rows x 6 columns]"
      ]
     },
     "execution_count": 19,
     "metadata": {},
     "output_type": "execute_result"
    }
   ],
   "source": [
    "df_dummy = pd.get_dummies(df,columns=['sex'],drop_first=True)\n",
    "df_dummy"
   ]
  },
  {
   "cell_type": "code",
   "execution_count": 20,
   "id": "d16a9f8e",
   "metadata": {},
   "outputs": [],
   "source": [
    "df_dummy_copy = df_dummy.copy()"
   ]
  },
  {
   "cell_type": "code",
   "execution_count": 21,
   "id": "98a8aa6f",
   "metadata": {},
   "outputs": [],
   "source": [
    "# scaling the features before doing PCA:\n",
    "from sklearn.preprocessing import StandardScaler\n",
    "sc =  StandardScaler()\n",
    "df_dummy_copy_scaled = sc.fit_transform(df_dummy_copy)"
   ]
  },
  {
   "cell_type": "code",
   "execution_count": 22,
   "id": "18f8cc0f",
   "metadata": {},
   "outputs": [
    {
     "data": {
      "text/plain": [
       "Index(['culmen_length_mm', 'culmen_depth_mm', 'flipper_length_mm',\n",
       "       'body_mass_g', 'sex_FEMALE', 'sex_MALE'],\n",
       "      dtype='object')"
      ]
     },
     "execution_count": 22,
     "metadata": {},
     "output_type": "execute_result"
    }
   ],
   "source": [
    "df_dummy_copy.columns"
   ]
  },
  {
   "cell_type": "code",
   "execution_count": 23,
   "id": "98eca5ae",
   "metadata": {},
   "outputs": [],
   "source": [
    "# creating a dataframe for the transformed scaled data:\n",
    "df_dummy_copy_scaled = pd.DataFrame(df_dummy_copy_scaled,columns=df_dummy.columns)"
   ]
  },
  {
   "cell_type": "code",
   "execution_count": 24,
   "id": "cc1ad2e1",
   "metadata": {},
   "outputs": [
    {
     "data": {
      "text/html": [
       "<div>\n",
       "<style scoped>\n",
       "    .dataframe tbody tr th:only-of-type {\n",
       "        vertical-align: middle;\n",
       "    }\n",
       "\n",
       "    .dataframe tbody tr th {\n",
       "        vertical-align: top;\n",
       "    }\n",
       "\n",
       "    .dataframe thead th {\n",
       "        text-align: right;\n",
       "    }\n",
       "</style>\n",
       "<table border=\"1\" class=\"dataframe\">\n",
       "  <thead>\n",
       "    <tr style=\"text-align: right;\">\n",
       "      <th></th>\n",
       "      <th>culmen_length_mm</th>\n",
       "      <th>culmen_depth_mm</th>\n",
       "      <th>flipper_length_mm</th>\n",
       "      <th>body_mass_g</th>\n",
       "      <th>sex_FEMALE</th>\n",
       "      <th>sex_MALE</th>\n",
       "    </tr>\n",
       "  </thead>\n",
       "  <tbody>\n",
       "    <tr>\n",
       "      <th>0</th>\n",
       "      <td>-0.905520</td>\n",
       "      <td>0.793126</td>\n",
       "      <td>-1.428125</td>\n",
       "      <td>-0.569709</td>\n",
       "      <td>-0.991031</td>\n",
       "      <td>0.997001</td>\n",
       "    </tr>\n",
       "    <tr>\n",
       "      <th>1</th>\n",
       "      <td>-0.831938</td>\n",
       "      <td>0.128503</td>\n",
       "      <td>-1.071522</td>\n",
       "      <td>-0.507579</td>\n",
       "      <td>1.009050</td>\n",
       "      <td>-1.003008</td>\n",
       "    </tr>\n",
       "    <tr>\n",
       "      <th>2</th>\n",
       "      <td>-0.684775</td>\n",
       "      <td>0.435252</td>\n",
       "      <td>-0.429637</td>\n",
       "      <td>-1.191006</td>\n",
       "      <td>1.009050</td>\n",
       "      <td>-1.003008</td>\n",
       "    </tr>\n",
       "    <tr>\n",
       "      <th>3</th>\n",
       "      <td>-1.347011</td>\n",
       "      <td>1.099875</td>\n",
       "      <td>-0.572278</td>\n",
       "      <td>-0.942487</td>\n",
       "      <td>1.009050</td>\n",
       "      <td>-1.003008</td>\n",
       "    </tr>\n",
       "    <tr>\n",
       "      <th>4</th>\n",
       "      <td>-0.868729</td>\n",
       "      <td>1.764498</td>\n",
       "      <td>-0.786240</td>\n",
       "      <td>-0.693968</td>\n",
       "      <td>-0.991031</td>\n",
       "      <td>0.997001</td>\n",
       "    </tr>\n",
       "    <tr>\n",
       "      <th>...</th>\n",
       "      <td>...</td>\n",
       "      <td>...</td>\n",
       "      <td>...</td>\n",
       "      <td>...</td>\n",
       "      <td>...</td>\n",
       "      <td>...</td>\n",
       "    </tr>\n",
       "    <tr>\n",
       "      <th>328</th>\n",
       "      <td>0.584511</td>\n",
       "      <td>-1.763116</td>\n",
       "      <td>0.925454</td>\n",
       "      <td>0.890339</td>\n",
       "      <td>1.009050</td>\n",
       "      <td>-1.003008</td>\n",
       "    </tr>\n",
       "    <tr>\n",
       "      <th>329</th>\n",
       "      <td>0.510929</td>\n",
       "      <td>-1.456367</td>\n",
       "      <td>0.996775</td>\n",
       "      <td>0.797145</td>\n",
       "      <td>1.009050</td>\n",
       "      <td>-1.003008</td>\n",
       "    </tr>\n",
       "    <tr>\n",
       "      <th>330</th>\n",
       "      <td>1.173166</td>\n",
       "      <td>-0.740619</td>\n",
       "      <td>1.496019</td>\n",
       "      <td>1.915480</td>\n",
       "      <td>-0.991031</td>\n",
       "      <td>0.997001</td>\n",
       "    </tr>\n",
       "    <tr>\n",
       "      <th>331</th>\n",
       "      <td>0.216602</td>\n",
       "      <td>-1.200743</td>\n",
       "      <td>0.782813</td>\n",
       "      <td>1.232053</td>\n",
       "      <td>1.009050</td>\n",
       "      <td>-1.003008</td>\n",
       "    </tr>\n",
       "    <tr>\n",
       "      <th>332</th>\n",
       "      <td>1.081188</td>\n",
       "      <td>-0.536120</td>\n",
       "      <td>0.854134</td>\n",
       "      <td>1.480572</td>\n",
       "      <td>-0.991031</td>\n",
       "      <td>0.997001</td>\n",
       "    </tr>\n",
       "  </tbody>\n",
       "</table>\n",
       "<p>333 rows × 6 columns</p>\n",
       "</div>"
      ],
      "text/plain": [
       "     culmen_length_mm  culmen_depth_mm  flipper_length_mm  body_mass_g  \\\n",
       "0           -0.905520         0.793126          -1.428125    -0.569709   \n",
       "1           -0.831938         0.128503          -1.071522    -0.507579   \n",
       "2           -0.684775         0.435252          -0.429637    -1.191006   \n",
       "3           -1.347011         1.099875          -0.572278    -0.942487   \n",
       "4           -0.868729         1.764498          -0.786240    -0.693968   \n",
       "..                ...              ...                ...          ...   \n",
       "328          0.584511        -1.763116           0.925454     0.890339   \n",
       "329          0.510929        -1.456367           0.996775     0.797145   \n",
       "330          1.173166        -0.740619           1.496019     1.915480   \n",
       "331          0.216602        -1.200743           0.782813     1.232053   \n",
       "332          1.081188        -0.536120           0.854134     1.480572   \n",
       "\n",
       "     sex_FEMALE  sex_MALE  \n",
       "0     -0.991031  0.997001  \n",
       "1      1.009050 -1.003008  \n",
       "2      1.009050 -1.003008  \n",
       "3      1.009050 -1.003008  \n",
       "4     -0.991031  0.997001  \n",
       "..          ...       ...  \n",
       "328    1.009050 -1.003008  \n",
       "329    1.009050 -1.003008  \n",
       "330   -0.991031  0.997001  \n",
       "331    1.009050 -1.003008  \n",
       "332   -0.991031  0.997001  \n",
       "\n",
       "[333 rows x 6 columns]"
      ]
     },
     "execution_count": 24,
     "metadata": {},
     "output_type": "execute_result"
    }
   ],
   "source": [
    "# checking the new dataframe:\n",
    "df_dummy_copy_scaled"
   ]
  },
  {
   "cell_type": "code",
   "execution_count": 25,
   "id": "1bd38145",
   "metadata": {},
   "outputs": [],
   "source": [
    "# Since there are 6 columns lets try doing for better visualization of the clusters. \n",
    "# The adavntage of doing PCA is not losing too much information and still reducing the dimensionality \n",
    "# for creating nice clusters."
   ]
  },
  {
   "cell_type": "code",
   "execution_count": 26,
   "id": "ab8f3078",
   "metadata": {},
   "outputs": [
    {
     "data": {
      "text/plain": [
       "2"
      ]
     },
     "execution_count": 26,
     "metadata": {},
     "output_type": "execute_result"
    }
   ],
   "source": [
    "from sklearn.decomposition import PCA\n",
    "pca = PCA(0.85) \n",
    "df_dummy_copy_scaled_pca = pca.fit_transform(df_dummy_copy_scaled) \n",
    "pca.n_components_\n",
    "# Keeping 85% of feature information is enough for us to create a good set of clusters and reduces our dimensionality to 2.\n",
    "# Lets go ahead with it (to check this I did a trial and error from 95% to 85%. The other way is to go with the classical a bit\n",
    "# lengthy method)"
   ]
  },
  {
   "cell_type": "code",
   "execution_count": 27,
   "id": "99da2b97",
   "metadata": {},
   "outputs": [
    {
     "name": "stdout",
     "output_type": "stream",
     "text": [
      "The WCSS for 2 clusters is 899.7404440438729\n",
      "The WCSS for 3 clusters is 436.55136086903656\n",
      "The WCSS for 4 clusters is 128.3919931231332\n",
      "The WCSS for 5 clusters is 93.95345390530508\n",
      "The WCSS for 6 clusters is 64.56914056291367\n",
      "The WCSS for 7 clusters is 55.09567384709461\n",
      "The WCSS for 8 clusters is 45.64834710934341\n"
     ]
    }
   ],
   "source": [
    "# now lets go ahead and decide how many clusters do we have to keep:\n",
    "# This will be done by Elbow method \n",
    "# If its not clear by Elbow method we would go for the Silhouette method.\n",
    "\n",
    "# for this first lets import the required module:\n",
    "from sklearn.cluster import KMeans\n",
    "\n",
    "# METHOD 1: Elbow method\n",
    "\n",
    "# if we want to take 2 to 8 then we have to keep range till 9 since the last element is excluded\n",
    "clusters = range(2,9)\n",
    "\n",
    "# Lets create a list to contain our WCSS (Within cluster sum of squares)\n",
    "# less the WCSS the better\n",
    "\n",
    "ssd = []\n",
    "\n",
    "for x in clusters:\n",
    "    km = KMeans(n_clusters = x, random_state = 30)\n",
    "    km.fit(df_dummy_copy_scaled_pca)\n",
    "    ssd.append(km.inertia_)\n",
    "    print(f'The WCSS for {x} clusters is {km.inertia_}')"
   ]
  },
  {
   "cell_type": "code",
   "execution_count": 28,
   "id": "8ee1a86a",
   "metadata": {},
   "outputs": [
    {
     "data": {
      "image/png": "[encoded data removed]",
      "text/plain": [
       "<Figure size 640x480 with 1 Axes>"
      ]
     },
     "metadata": {},
     "output_type": "display_data"
    }
   ],
   "source": [
    "# Not clear from here. Lets plot the elbow and check where we get the elbow point.\n",
    "plt.plot(clusters,ssd)\n",
    "plt.xlabel('Cluster')\n",
    "plt.ylabel('WCSS')\n",
    "plt.show()"
   ]
  },
  {
   "cell_type": "code",
   "execution_count": 29,
   "id": "5276257b",
   "metadata": {},
   "outputs": [],
   "source": [
    "# So, the elbow point is at 4. Lets go ahead with 4 clusters."
   ]
  },
  {
   "cell_type": "code",
   "execution_count": 30,
   "id": "22f5e25e",
   "metadata": {},
   "outputs": [
    {
     "data": {
      "text/html": [
       "<style>#sk-container-id-1 {color: black;background-color: white;}#sk-container-id-1 pre{padding: 0;}#sk-container-id-1 div.sk-toggleable {background-color: white;}#sk-container-id-1 label.sk-toggleable__label {cursor: pointer;display: block;width: 100%;margin-bottom: 0;padding: 0.3em;box-sizing: border-box;text-align: center;}#sk-container-id-1 label.sk-toggleable__label-arrow:before {content: \"▸\";float: left;margin-right: 0.25em;color: #696969;}#sk-container-id-1 label.sk-toggleable__label-arrow:hover:before {color: black;}#sk-container-id-1 div.sk-estimator:hover label.sk-toggleable__label-arrow:before {color: black;}#sk-container-id-1 div.sk-toggleable__content {max-height: 0;max-width: 0;overflow: hidden;text-align: left;background-color: #f0f8ff;}#sk-container-id-1 div.sk-toggleable__content pre {margin: 0.2em;color: black;border-radius: 0.25em;background-color: #f0f8ff;}#sk-container-id-1 input.sk-toggleable__control:checked~div.sk-toggleable__content {max-height: 200px;max-width: 100%;overflow: auto;}#sk-container-id-1 input.sk-toggleable__control:checked~label.sk-toggleable__label-arrow:before {content: \"▾\";}#sk-container-id-1 div.sk-estimator input.sk-toggleable__control:checked~label.sk-toggleable__label {background-color: #d4ebff;}#sk-container-id-1 div.sk-label input.sk-toggleable__control:checked~label.sk-toggleable__label {background-color: #d4ebff;}#sk-container-id-1 input.sk-hidden--visually {border: 0;clip: rect(1px 1px 1px 1px);clip: rect(1px, 1px, 1px, 1px);height: 1px;margin: -1px;overflow: hidden;padding: 0;position: absolute;width: 1px;}#sk-container-id-1 div.sk-estimator {font-family: monospace;background-color: #f0f8ff;border: 1px dotted black;border-radius: 0.25em;box-sizing: border-box;margin-bottom: 0.5em;}#sk-container-id-1 div.sk-estimator:hover {background-color: #d4ebff;}#sk-container-id-1 div.sk-parallel-item::after {content: \"\";width: 100%;border-bottom: 1px solid gray;flex-grow: 1;}#sk-container-id-1 div.sk-label:hover label.sk-toggleable__label {background-color: #d4ebff;}#sk-container-id-1 div.sk-serial::before {content: \"\";position: absolute;border-left: 1px solid gray;box-sizing: border-box;top: 0;bottom: 0;left: 50%;z-index: 0;}#sk-container-id-1 div.sk-serial {display: flex;flex-direction: column;align-items: center;background-color: white;padding-right: 0.2em;padding-left: 0.2em;position: relative;}#sk-container-id-1 div.sk-item {position: relative;z-index: 1;}#sk-container-id-1 div.sk-parallel {display: flex;align-items: stretch;justify-content: center;background-color: white;position: relative;}#sk-container-id-1 div.sk-item::before, #sk-container-id-1 div.sk-parallel-item::before {content: \"\";position: absolute;border-left: 1px solid gray;box-sizing: border-box;top: 0;bottom: 0;left: 50%;z-index: -1;}#sk-container-id-1 div.sk-parallel-item {display: flex;flex-direction: column;z-index: 1;position: relative;background-color: white;}#sk-container-id-1 div.sk-parallel-item:first-child::after {align-self: flex-end;width: 50%;}#sk-container-id-1 div.sk-parallel-item:last-child::after {align-self: flex-start;width: 50%;}#sk-container-id-1 div.sk-parallel-item:only-child::after {width: 0;}#sk-container-id-1 div.sk-dashed-wrapped {border: 1px dashed gray;margin: 0 0.4em 0.5em 0.4em;box-sizing: border-box;padding-bottom: 0.4em;background-color: white;}#sk-container-id-1 div.sk-label label {font-family: monospace;font-weight: bold;display: inline-block;line-height: 1.2em;}#sk-container-id-1 div.sk-label-container {text-align: center;}#sk-container-id-1 div.sk-container {/* jupyter's `normalize.less` sets `[hidden] { display: none; }` but bootstrap.min.css set `[hidden] { display: none !important; }` so we also need the `!important` here to be able to override the default hidden behavior on the sphinx rendered scikit-learn.org. See: https://github.com/scikit-learn/scikit-learn/issues/21755 */display: inline-block !important;position: relative;}#sk-container-id-1 div.sk-text-repr-fallback {display: none;}</style><div id=\"sk-container-id-1\" class=\"sk-top-container\"><div class=\"sk-text-repr-fallback\"><pre>KMeans(n_clusters=4, random_state=30)</pre><b>In a Jupyter environment, please rerun this cell to show the HTML representation or trust the notebook. <br />On GitHub, the HTML representation is unable to render, please try loading this page with nbviewer.org.</b></div><div class=\"sk-container\" hidden><div class=\"sk-item\"><div class=\"sk-estimator sk-toggleable\"><input class=\"sk-toggleable__control sk-hidden--visually\" id=\"sk-estimator-id-1\" type=\"checkbox\" checked><label for=\"sk-estimator-id-1\" class=\"sk-toggleable__label sk-toggleable__label-arrow\">KMeans</label><div class=\"sk-toggleable__content\"><pre>KMeans(n_clusters=4, random_state=30)</pre></div></div></div></div></div>"
      ],
      "text/plain": [
       "KMeans(n_clusters=4, random_state=30)"
      ]
     },
     "execution_count": 30,
     "metadata": {},
     "output_type": "execute_result"
    }
   ],
   "source": [
    "# Implementing the same:\n",
    "km = KMeans(n_clusters = 4, random_state = 30)\n",
    "km.fit(df_dummy_copy_scaled_pca)"
   ]
  },
  {
   "cell_type": "code",
   "execution_count": 31,
   "id": "1bd6f8e2",
   "metadata": {
    "scrolled": false
   },
   "outputs": [
    {
     "data": {
      "text/plain": [
       "array([[-7.29520694e-01, -2.09719199e+00],\n",
       "       [-1.92930440e+00,  4.12149703e-01],\n",
       "       [-1.95352479e+00,  3.08485398e-01],\n",
       "       [-2.28817761e+00, -1.58277726e-01],\n",
       "       [-6.21821649e-01, -2.51402049e+00],\n",
       "       [-2.29152165e+00,  1.26445549e-01],\n",
       "       [ 2.70680676e-01, -1.85613349e+00],\n",
       "       [-2.33416049e+00,  1.50781067e-01],\n",
       "       [-5.97023288e-01, -2.65728372e+00],\n",
       "       [-2.29097852e+00,  1.91722418e-01],\n",
       "       [-2.03556313e+00,  1.40926894e-02],\n",
       "       [ 4.03586127e-01, -2.13984589e+00],\n",
       "       [-2.78682640e+00, -1.42762052e-01],\n",
       "       [ 3.26341981e-01, -2.46479526e+00],\n",
       "       [-2.80192041e+00, -2.54639414e-01],\n",
       "       [-9.70630285e-01, -2.17804104e+00],\n",
       "       [-2.25960046e+00, -1.47648262e-01],\n",
       "       [-4.89541085e-01, -1.79101648e+00],\n",
       "       [-6.35131373e-01, -1.64334482e+00],\n",
       "       [-2.35187589e+00, -1.08021864e-01],\n",
       "       [-6.59573801e-01, -2.04230703e+00],\n",
       "       [-2.23509243e+00,  1.56193095e-01],\n",
       "       [-3.04481322e+00, -4.48467094e-01],\n",
       "       [-5.41400318e-01, -2.11124270e+00],\n",
       "       [-2.49485913e+00,  3.28554417e-01],\n",
       "       [-8.40878499e-01, -1.97343654e+00],\n",
       "       [-2.20946064e+00,  2.15236998e-01],\n",
       "       [-4.04061942e-01, -2.02813659e+00],\n",
       "       [-2.13725350e+00,  5.71269200e-01],\n",
       "       [-1.48266975e-01, -2.42499995e+00],\n",
       "       [-4.23573238e-01, -2.26554412e+00],\n",
       "       [-2.16582005e+00, -7.47759231e-02],\n",
       "       [-2.72211005e+00, -4.40614065e-01],\n",
       "       [-3.35651778e-02, -1.93635284e+00],\n",
       "       [-2.76587976e+00, -6.55728244e-02],\n",
       "       [ 5.00237727e-03, -1.63210056e+00],\n",
       "       [-2.74083453e+00, -1.54515306e-01],\n",
       "       [ 5.14654100e-01, -1.84426765e+00],\n",
       "       [-2.62934802e+00,  3.18444137e-01],\n",
       "       [ 1.48491017e-01, -1.72587660e+00],\n",
       "       [-7.65202550e-01, -2.20966815e+00],\n",
       "       [-2.33397377e+00,  2.01919421e-01],\n",
       "       [-7.96975259e-02, -2.51231972e+00],\n",
       "       [-2.13533956e+00,  2.50633155e-01],\n",
       "       [-7.79251060e-02, -1.86175326e+00],\n",
       "       [-2.41393403e+00,  1.84611616e-01],\n",
       "       [ 2.78389559e-01, -1.81120680e+00],\n",
       "       [-2.92081937e+00, -7.96067488e-02],\n",
       "       [-2.26702178e-01, -1.81829115e+00],\n",
       "       [-2.13554517e+00,  3.14397831e-01],\n",
       "       [-1.75027375e-01, -1.82773270e+00],\n",
       "       [-2.87704097e+00,  2.81247261e-01],\n",
       "       [-4.36496150e-01, -1.96316386e+00],\n",
       "       [-2.63837943e+00,  3.30626184e-01],\n",
       "       [ 1.43596119e-01, -2.35278583e+00],\n",
       "       [-2.20976996e+00,  4.36263277e-01],\n",
       "       [ 3.72940045e-02, -1.59544518e+00],\n",
       "       [-2.82262097e+00,  1.88852701e-01],\n",
       "       [ 3.01277490e-02, -1.54732412e+00],\n",
       "       [-2.12887198e+00,  8.11827057e-01],\n",
       "       [-1.40652311e-01, -1.95327701e+00],\n",
       "       [-2.49022642e+00,  5.14528881e-01],\n",
       "       [ 4.55078458e-01, -1.73476006e+00],\n",
       "       [-2.52768109e+00, -1.50905358e-01],\n",
       "       [-2.54195464e-01, -1.76081880e+00],\n",
       "       [-1.72088855e+00,  6.38024767e-01],\n",
       "       [ 5.91166235e-01, -1.60035759e+00],\n",
       "       [-2.18349590e+00,  3.76246431e-01],\n",
       "       [ 3.78329923e-01, -1.54785414e+00],\n",
       "       [-1.66100173e+00,  7.10704710e-01],\n",
       "       [-7.40243798e-01, -2.24864704e+00],\n",
       "       [-2.21226462e+00,  7.25992311e-01],\n",
       "       [ 1.15768180e-01, -1.80553915e+00],\n",
       "       [-2.58190083e+00,  3.17009109e-01],\n",
       "       [ 7.77917068e-01, -1.13849202e+00],\n",
       "       [-2.23186575e+00, -5.24966222e-02],\n",
       "       [-4.10091682e-01, -2.01820566e+00],\n",
       "       [-2.25098929e+00,  2.54528351e-01],\n",
       "       [-3.63988491e-01, -2.32089968e+00],\n",
       "       [-6.78061886e-01, -2.18702425e+00],\n",
       "       [-2.32107936e+00, -1.19389561e-02],\n",
       "       [-4.33275418e-01, -2.04577944e+00],\n",
       "       [-2.07976415e+00,  5.14541754e-03],\n",
       "       [-1.89176994e+00,  4.51785398e-01],\n",
       "       [ 6.48782713e-01, -1.22118011e+00],\n",
       "       [-2.63224856e+00,  2.96417941e-01],\n",
       "       [-2.69586764e-02, -1.62924232e+00],\n",
       "       [-2.46724888e+00,  2.92656883e-01],\n",
       "       [ 6.63013313e-01, -1.41091918e+00],\n",
       "       [-2.06432284e+00,  7.70092645e-02],\n",
       "       [ 2.75955545e-01, -1.54606626e+00],\n",
       "       [-3.17968288e+00,  3.24625235e-01],\n",
       "       [ 2.12652167e-01, -1.64142101e+00],\n",
       "       [-2.17142304e+00,  2.92067498e-01],\n",
       "       [ 6.87971476e-01, -1.76310852e+00],\n",
       "       [-2.52182196e+00,  5.85677665e-01],\n",
       "       [-3.13699650e-01, -2.21348754e+00],\n",
       "       [-2.46797405e+00, -3.98358335e-02],\n",
       "       [-7.21487066e-01, -2.12983107e+00],\n",
       "       [-1.57154798e+00,  7.32767679e-01],\n",
       "       [-5.03188365e-01, -2.28748953e+00],\n",
       "       [-2.57571436e+00,  2.58907243e-01],\n",
       "       [ 7.70690964e-01, -1.53214306e+00],\n",
       "       [-1.54185748e+00,  9.38579143e-01],\n",
       "       [ 5.41514124e-01, -2.06950856e+00],\n",
       "       [-2.07743919e+00,  3.36551066e-01],\n",
       "       [ 3.34012057e-01, -1.82152974e+00],\n",
       "       [-1.95295968e+00, -4.86030777e-01],\n",
       "       [ 3.09977366e-01, -1.50552292e+00],\n",
       "       [-2.47001040e+00,  3.57528641e-01],\n",
       "       [-3.86344134e-01, -2.29101658e+00],\n",
       "       [-2.38289606e+00,  4.33318517e-01],\n",
       "       [-5.56479184e-01, -1.95406083e+00],\n",
       "       [-2.55410002e+00,  2.89269004e-01],\n",
       "       [-5.06162223e-01, -2.15055321e+00],\n",
       "       [-2.40502502e+00,  2.49157999e-01],\n",
       "       [ 2.68831445e-01, -1.50523904e+00],\n",
       "       [-2.62673137e+00,  6.33729895e-01],\n",
       "       [ 1.40886828e-01, -1.71246282e+00],\n",
       "       [-2.16237581e+00,  3.25737590e-01],\n",
       "       [ 3.22152130e-01, -1.49620493e+00],\n",
       "       [-2.24843022e+00,  4.33647434e-01],\n",
       "       [ 8.78136978e-01, -1.09764712e+00],\n",
       "       [-2.21317057e+00,  2.16287106e-01],\n",
       "       [-6.02304627e-02, -1.89126111e+00],\n",
       "       [-2.18401635e+00,  1.05368302e-01],\n",
       "       [ 2.33909201e-01, -1.49981850e+00],\n",
       "       [-2.26042431e+00,  2.60560596e-01],\n",
       "       [-6.96590645e-02, -1.45493904e+00],\n",
       "       [-2.47346079e+00,  2.78525467e-01],\n",
       "       [ 3.86079441e-02, -2.04746783e+00],\n",
       "       [-2.34397310e+00,  5.36107243e-01],\n",
       "       [ 1.10351202e-01, -1.45761431e+00],\n",
       "       [-1.86250848e+00,  5.79213779e-01],\n",
       "       [-4.57118060e-01, -1.53378400e+00],\n",
       "       [-2.77384840e+00,  7.49124819e-01],\n",
       "       [-1.72050663e-01, -1.34585315e+00],\n",
       "       [-2.35755597e+00,  5.08482309e-01],\n",
       "       [-6.63801420e-01, -2.03430051e+00],\n",
       "       [-8.88343383e-02, -1.75113621e+00],\n",
       "       [-2.51599691e+00, -7.00026888e-02],\n",
       "       [-2.15466643e+00,  3.42893390e-01],\n",
       "       [-3.74094587e-01, -1.66869508e+00],\n",
       "       [-2.21399758e+00,  4.44269798e-01],\n",
       "       [ 3.21676594e-01, -1.49654236e+00],\n",
       "       [-1.39425549e+00,  4.39083965e-01],\n",
       "       [ 6.86161431e-01, -1.79517028e+00],\n",
       "       [ 5.53367304e-01, -1.80239864e+00],\n",
       "       [-1.66791179e+00,  8.77275056e-02],\n",
       "       [ 8.01368676e-01, -1.86084878e+00],\n",
       "       [-9.99897404e-01,  6.83540297e-01],\n",
       "       [-2.08810818e+00, -2.66287882e-02],\n",
       "       [ 8.34296324e-01, -1.37859031e+00],\n",
       "       [-1.00084185e+00,  3.33584213e-01],\n",
       "       [ 6.99787361e-01, -1.90021845e+00],\n",
       "       [-1.15411153e+00,  5.63409376e-01],\n",
       "       [ 6.09973546e-01, -2.08887522e+00],\n",
       "       [-1.41906296e+00,  5.28195161e-01],\n",
       "       [ 1.22516138e+00, -1.17807242e+00],\n",
       "       [-1.39874355e+00,  6.52523032e-01],\n",
       "       [ 9.84234258e-01, -1.67344884e+00],\n",
       "       [ 3.24401220e-01, -2.06324235e+00],\n",
       "       [-7.16822311e-01,  4.74365719e-01],\n",
       "       [-1.55884759e+00,  1.62860390e-01],\n",
       "       [ 1.00918983e+00, -1.30851906e+00],\n",
       "       [-1.98715133e+00,  3.37714073e-01],\n",
       "       [ 2.39905397e-01, -1.42053266e+00],\n",
       "       [-2.10417841e+00,  5.40385871e-01],\n",
       "       [ 5.76180482e-01, -1.84242054e+00],\n",
       "       [-1.40207440e+00,  4.62110395e-01],\n",
       "       [ 1.07885404e+00, -1.52434351e+00],\n",
       "       [-9.04034835e-01,  5.04209598e-01],\n",
       "       [ 7.60225516e-01, -1.58273035e+00],\n",
       "       [-1.30187815e+00,  4.92954492e-01],\n",
       "       [ 1.58926270e+00, -1.55546712e+00],\n",
       "       [-2.09825315e+00,  5.69942305e-01],\n",
       "       [ 1.34149268e+00, -1.92713808e+00],\n",
       "       [-1.88346561e+00,  6.01022671e-01],\n",
       "       [ 1.18887624e+00, -1.35900783e+00],\n",
       "       [ 5.10683240e-01, -1.61001411e+00],\n",
       "       [-7.32721654e-01,  1.04666659e+00],\n",
       "       [-1.01434459e+00,  4.79678202e-01],\n",
       "       [ 1.79827045e+00, -1.62089025e+00],\n",
       "       [-1.76363980e+00,  6.67861480e-01],\n",
       "       [ 1.62166169e+00, -1.52361807e+00],\n",
       "       [ 1.11731652e+00, -1.49381432e+00],\n",
       "       [-1.46230508e+00,  4.84071420e-01],\n",
       "       [ 5.68915972e-01, -1.73534111e+00],\n",
       "       [-1.26463046e+00,  7.91168714e-01],\n",
       "       [-7.94700712e-01,  6.43444588e-01],\n",
       "       [ 1.35005773e+00, -1.23153319e+00],\n",
       "       [-1.23817315e+00,  4.34398739e-01],\n",
       "       [ 1.39922018e+00, -1.40031166e+00],\n",
       "       [ 1.51086603e-01, -1.86656694e+00],\n",
       "       [-7.65765674e-01,  8.56043752e-01],\n",
       "       [-1.01633057e+00,  1.04928013e+00],\n",
       "       [ 1.04131523e+00, -1.49322739e+00],\n",
       "       [-1.31230274e+00,  6.58061001e-01],\n",
       "       [ 1.06065715e+00, -1.65740973e+00],\n",
       "       [-1.93186030e+00,  4.13256785e-01],\n",
       "       [ 6.68032016e-01, -1.62014355e+00],\n",
       "       [-1.58579183e+00,  7.43670321e-01],\n",
       "       [ 9.32581229e-01, -1.74422929e+00],\n",
       "       [ 9.00825883e-01, -1.46415439e+00],\n",
       "       [-1.50289035e+00,  3.74445080e-03],\n",
       "       [ 1.21220801e+00, -1.53136541e+00],\n",
       "       [-1.26517448e+00,  8.51271109e-01],\n",
       "       [-1.18796980e+00,  8.07376537e-01],\n",
       "       [ 1.56574294e+00, -1.52425125e+00],\n",
       "       [-1.37106265e+00,  5.20809769e-01],\n",
       "       [ 5.77190129e-01, -1.48997693e+00],\n",
       "       [ 1.39649081e+00, -1.27150651e+00],\n",
       "       [-7.83424578e-01,  4.47967933e-01],\n",
       "       [ 2.36349587e-01,  2.55099093e+00],\n",
       "       [ 3.24771214e+00,  3.68255750e-01],\n",
       "       [ 3.05766923e-01,  2.28084573e+00],\n",
       "       [ 2.92545600e+00,  4.49262038e-01],\n",
       "       [ 2.49743309e+00,  4.91611329e-01],\n",
       "       [ 2.41527004e-01,  2.45365591e+00],\n",
       "       [ 2.57290299e-01,  2.17011945e+00],\n",
       "       [ 2.37137995e+00,  2.67180589e-01],\n",
       "       [-1.35445264e-01,  2.37294712e+00],\n",
       "       [ 2.20267797e+00,  1.38312600e-01],\n",
       "       [-2.21107939e-02,  2.40500876e+00],\n",
       "       [ 2.60949016e+00,  7.17513483e-02],\n",
       "       [ 3.45706380e-01,  2.48462466e+00],\n",
       "       [ 2.76958965e+00,  5.34337975e-01],\n",
       "       [-1.24641599e-01,  2.01637787e+00],\n",
       "       [ 2.88982352e+00,  2.93421264e-01],\n",
       "       [-3.71405936e-01,  2.28328494e+00],\n",
       "       [ 3.34390042e+00,  6.39952358e-01],\n",
       "       [ 2.60827661e-01,  2.17138815e+00],\n",
       "       [ 2.74509388e+00,  4.64874813e-01],\n",
       "       [ 3.01404010e+00,  7.34372429e-01],\n",
       "       [ 5.04917149e-01,  2.33020807e+00],\n",
       "       [ 1.68697194e-01,  2.17183836e+00],\n",
       "       [ 2.06715677e+00, -1.86400220e-02],\n",
       "       [ 4.41925541e-01,  2.73025130e+00],\n",
       "       [ 2.13926417e+00,  2.08519349e-01],\n",
       "       [ 2.63129110e+00,  3.96404973e-01],\n",
       "       [ 3.44572153e-01,  2.24428539e+00],\n",
       "       [ 2.89096992e+00,  4.27157393e-01],\n",
       "       [ 2.55374001e+00,  3.54933796e-01],\n",
       "       [-5.01178072e-02,  2.18330309e+00],\n",
       "       [ 2.62569626e-01,  2.16628135e+00],\n",
       "       [ 4.18034293e+00,  3.96275592e-01],\n",
       "       [ 1.06671930e+00,  2.44991819e+00],\n",
       "       [ 2.58745877e+00,  5.18395672e-02],\n",
       "       [ 2.69407172e-01,  2.48186048e+00],\n",
       "       [ 2.05779469e+00, -3.86952921e-01],\n",
       "       [-1.61491936e-01,  2.28897730e+00],\n",
       "       [ 2.21722282e+00, -2.99941065e-02],\n",
       "       [-5.26617842e-01,  2.14269699e+00],\n",
       "       [ 3.06868383e+00,  3.45535917e-01],\n",
       "       [-2.87517367e-02,  2.31249426e+00],\n",
       "       [ 2.23996634e+00,  2.41401795e-01],\n",
       "       [ 2.95105198e+00,  2.91917270e-01],\n",
       "       [ 4.38590136e-01,  2.51276265e+00],\n",
       "       [-9.21691984e-02,  2.23024573e+00],\n",
       "       [ 2.95887999e+00,  3.23042870e-01],\n",
       "       [ 5.80495810e-01,  2.68152788e+00],\n",
       "       [ 2.13739535e+00,  2.01250474e-02],\n",
       "       [ 3.82896397e-01,  2.30569087e+00],\n",
       "       [ 2.70962406e+00,  7.18923804e-01],\n",
       "       [-3.79263168e-02,  2.11309396e+00],\n",
       "       [ 2.74637614e+00,  5.05282731e-01],\n",
       "       [ 6.30145964e-01,  2.40648371e+00],\n",
       "       [ 2.16671312e+00,  1.93716744e-01],\n",
       "       [-2.33320308e-01,  2.18007206e+00],\n",
       "       [ 2.20731741e+00,  3.15987173e-01],\n",
       "       [-2.34774234e-01,  2.01660368e+00],\n",
       "       [ 3.05994727e+00,  5.21824238e-01],\n",
       "       [-1.68592091e-01,  2.21420662e+00],\n",
       "       [ 2.49543752e+00,  4.50697268e-01],\n",
       "       [ 1.87371997e-01,  2.36769394e+00],\n",
       "       [ 3.64254527e+00,  6.40820398e-01],\n",
       "       [ 5.32246079e-01,  2.45458581e+00],\n",
       "       [ 3.19139118e+00,  2.08322617e-01],\n",
       "       [ 3.24482743e+00,  3.92081693e-01],\n",
       "       [ 3.82585804e-01,  2.43671379e+00],\n",
       "       [ 3.07388438e+00,  5.98963592e-01],\n",
       "       [ 5.48538342e-01,  2.18286907e+00],\n",
       "       [ 2.26513525e+00,  1.65734242e-01],\n",
       "       [ 2.47234166e+00,  2.20009753e-01],\n",
       "       [ 7.87716679e-01,  2.35067084e+00],\n",
       "       [ 4.12951036e-01,  2.14880819e+00],\n",
       "       [ 3.22324308e+00,  4.61029228e-01],\n",
       "       [ 2.62417444e-01,  2.24152831e+00],\n",
       "       [ 3.18301914e+00,  2.37299412e-01],\n",
       "       [ 4.11178781e-01,  2.49319540e+00],\n",
       "       [ 2.77429382e+00,  1.58136110e-01],\n",
       "       [ 4.84720929e-01,  2.24692601e+00],\n",
       "       [ 3.03764358e+00,  3.75358430e-01],\n",
       "       [ 4.04000660e-01,  2.20932989e+00],\n",
       "       [ 2.85301258e+00,  2.80892306e-01],\n",
       "       [ 2.84445769e-01,  2.42219526e+00],\n",
       "       [ 3.09924795e+00,  2.16552550e-03],\n",
       "       [ 2.26683641e-01,  2.30540106e+00],\n",
       "       [ 2.85695037e+00,  6.92219481e-01],\n",
       "       [ 5.55308302e-01,  2.43350875e+00],\n",
       "       [ 3.26425128e+00,  1.50859746e-01],\n",
       "       [ 7.27598811e-01,  2.26952229e+00],\n",
       "       [ 3.10076797e+00,  4.27421575e-02],\n",
       "       [ 2.75961445e-01,  2.21351974e+00],\n",
       "       [ 2.98673473e+00,  2.79014160e-01],\n",
       "       [ 3.11644197e-01,  2.20061663e+00],\n",
       "       [ 2.90669205e+00,  3.66516848e-01],\n",
       "       [ 2.27018443e+00,  2.80482767e-02],\n",
       "       [ 8.01420575e-01,  2.45471749e+00],\n",
       "       [ 1.28579724e-01,  2.06868149e+00],\n",
       "       [ 2.86354453e+00,  1.10979473e-01],\n",
       "       [ 7.78529430e-01,  2.28564456e+00],\n",
       "       [ 3.53124260e+00,  1.84318274e-01],\n",
       "       [ 5.76356373e-01,  2.04783095e+00],\n",
       "       [ 3.08555056e+00,  6.69390028e-01],\n",
       "       [ 2.36769031e+00,  1.77515611e-04],\n",
       "       [-1.44154688e-01,  2.02972886e+00],\n",
       "       [ 3.05661859e+00,  2.96035695e-01],\n",
       "       [-1.07351862e-01,  2.20370786e+00],\n",
       "       [ 2.34680660e+00,  2.04005221e-01],\n",
       "       [ 9.14490362e-01,  2.22654595e+00],\n",
       "       [ 3.38792978e+00,  5.25839171e-01],\n",
       "       [ 3.05508214e-02,  1.95865840e+00],\n",
       "       [ 3.24109663e+00,  3.47974534e-01],\n",
       "       [ 2.98146008e-01,  2.37378664e+00],\n",
       "       [ 3.77462371e+00,  5.85090691e-01],\n",
       "       [ 1.12149039e+00,  9.74884938e-01],\n",
       "       [ 3.07567296e+00,  2.72657637e-01],\n",
       "       [ 6.55653171e-01,  2.57763195e+00],\n",
       "       [ 5.62064225e-01,  2.38753777e+00],\n",
       "       [ 3.08574341e+00,  3.99018042e-01],\n",
       "       [ 5.12526787e-01,  2.21849104e+00],\n",
       "       [ 2.48379253e+00, -1.31616130e-02]])"
      ]
     },
     "execution_count": 31,
     "metadata": {},
     "output_type": "execute_result"
    }
   ],
   "source": [
    "df_dummy_copy_scaled_pca"
   ]
  },
  {
   "cell_type": "code",
   "execution_count": 32,
   "id": "9f25de6c",
   "metadata": {
    "scrolled": false
   },
   "outputs": [
    {
     "data": {
      "text/plain": [
       "array([1, 2, 2, 2, 1, 2, 1, 2, 1, 2, 2, 1, 2, 1, 2, 1, 2, 1, 1, 2, 1, 2,\n",
       "       2, 1, 2, 1, 2, 1, 2, 1, 1, 2, 2, 1, 2, 1, 2, 1, 2, 1, 1, 2, 1, 2,\n",
       "       1, 2, 1, 2, 1, 2, 1, 2, 1, 2, 1, 2, 1, 2, 1, 2, 1, 2, 1, 2, 1, 2,\n",
       "       1, 2, 1, 2, 1, 2, 1, 2, 1, 2, 1, 2, 1, 1, 2, 1, 2, 2, 1, 2, 1, 2,\n",
       "       1, 2, 1, 2, 1, 2, 1, 2, 1, 2, 1, 2, 1, 2, 1, 2, 1, 2, 1, 2, 1, 2,\n",
       "       1, 2, 1, 2, 1, 2, 1, 2, 1, 2, 1, 2, 1, 2, 1, 2, 1, 2, 1, 2, 1, 2,\n",
       "       1, 2, 1, 2, 1, 2, 1, 1, 2, 2, 1, 2, 1, 2, 1, 1, 2, 1, 2, 2, 1, 2,\n",
       "       1, 2, 1, 2, 1, 2, 1, 1, 2, 2, 1, 2, 1, 2, 1, 2, 1, 2, 1, 2, 1, 2,\n",
       "       1, 2, 1, 1, 2, 2, 1, 2, 1, 1, 2, 1, 2, 2, 1, 2, 1, 1, 2, 2, 1, 2,\n",
       "       1, 2, 1, 2, 1, 1, 2, 1, 2, 2, 1, 2, 1, 1, 2, 0, 3, 0, 3, 3, 0, 0,\n",
       "       3, 0, 3, 0, 3, 0, 3, 0, 3, 0, 3, 0, 3, 3, 0, 0, 3, 0, 3, 3, 0, 3,\n",
       "       3, 0, 0, 3, 0, 3, 0, 3, 0, 3, 0, 3, 0, 3, 3, 0, 0, 3, 0, 3, 0, 3,\n",
       "       0, 3, 0, 3, 0, 3, 0, 3, 0, 3, 0, 3, 0, 3, 3, 0, 3, 0, 3, 3, 0, 0,\n",
       "       3, 0, 3, 0, 3, 0, 3, 0, 3, 0, 3, 0, 3, 0, 3, 0, 3, 0, 3, 0, 3, 3,\n",
       "       0, 0, 3, 0, 3, 0, 3, 3, 0, 3, 0, 3, 0, 3, 0, 3, 0, 3, 0, 3, 0, 0,\n",
       "       3, 0, 3])"
      ]
     },
     "execution_count": 32,
     "metadata": {},
     "output_type": "execute_result"
    }
   ],
   "source": [
    "# each record in the 'df_dummy_scaled_pca' has now cluster labels. Lets put them into the DataFrame\n",
    "km.labels_"
   ]
  },
  {
   "cell_type": "code",
   "execution_count": 35,
   "id": "21532a12",
   "metadata": {},
   "outputs": [],
   "source": [
    "df_dummy['PC1'] = df_dummy_copy_scaled_pca[:,0]\n",
    "df_dummy['PC2'] = df_dummy_copy_scaled_pca[:,1]\n",
    "df_dummy['cluster'] = km.labels_ "
   ]
  },
  {
   "cell_type": "code",
   "execution_count": 36,
   "id": "94331bb6",
   "metadata": {
    "scrolled": true
   },
   "outputs": [
    {
     "data": {
      "text/html": [
       "<div>\n",
       "<style scoped>\n",
       "    .dataframe tbody tr th:only-of-type {\n",
       "        vertical-align: middle;\n",
       "    }\n",
       "\n",
       "    .dataframe tbody tr th {\n",
       "        vertical-align: top;\n",
       "    }\n",
       "\n",
       "    .dataframe thead th {\n",
       "        text-align: right;\n",
       "    }\n",
       "</style>\n",
       "<table border=\"1\" class=\"dataframe\">\n",
       "  <thead>\n",
       "    <tr style=\"text-align: right;\">\n",
       "      <th></th>\n",
       "      <th>culmen_length_mm</th>\n",
       "      <th>culmen_depth_mm</th>\n",
       "      <th>flipper_length_mm</th>\n",
       "      <th>body_mass_g</th>\n",
       "      <th>sex_FEMALE</th>\n",
       "      <th>sex_MALE</th>\n",
       "      <th>PC1</th>\n",
       "      <th>PC2</th>\n",
       "      <th>cluster</th>\n",
       "    </tr>\n",
       "  </thead>\n",
       "  <tbody>\n",
       "    <tr>\n",
       "      <th>0</th>\n",
       "      <td>39.1</td>\n",
       "      <td>18.7</td>\n",
       "      <td>181.0</td>\n",
       "      <td>3750.0</td>\n",
       "      <td>0</td>\n",
       "      <td>1</td>\n",
       "      <td>-0.729521</td>\n",
       "      <td>-2.097192</td>\n",
       "      <td>1</td>\n",
       "    </tr>\n",
       "    <tr>\n",
       "      <th>1</th>\n",
       "      <td>39.5</td>\n",
       "      <td>17.4</td>\n",
       "      <td>186.0</td>\n",
       "      <td>3800.0</td>\n",
       "      <td>1</td>\n",
       "      <td>0</td>\n",
       "      <td>-1.929304</td>\n",
       "      <td>0.412150</td>\n",
       "      <td>2</td>\n",
       "    </tr>\n",
       "    <tr>\n",
       "      <th>2</th>\n",
       "      <td>40.3</td>\n",
       "      <td>18.0</td>\n",
       "      <td>195.0</td>\n",
       "      <td>3250.0</td>\n",
       "      <td>1</td>\n",
       "      <td>0</td>\n",
       "      <td>-1.953525</td>\n",
       "      <td>0.308485</td>\n",
       "      <td>2</td>\n",
       "    </tr>\n",
       "    <tr>\n",
       "      <th>4</th>\n",
       "      <td>36.7</td>\n",
       "      <td>19.3</td>\n",
       "      <td>193.0</td>\n",
       "      <td>3450.0</td>\n",
       "      <td>1</td>\n",
       "      <td>0</td>\n",
       "      <td>-2.288178</td>\n",
       "      <td>-0.158278</td>\n",
       "      <td>2</td>\n",
       "    </tr>\n",
       "    <tr>\n",
       "      <th>5</th>\n",
       "      <td>39.3</td>\n",
       "      <td>20.6</td>\n",
       "      <td>190.0</td>\n",
       "      <td>3650.0</td>\n",
       "      <td>0</td>\n",
       "      <td>1</td>\n",
       "      <td>-0.621822</td>\n",
       "      <td>-2.514020</td>\n",
       "      <td>1</td>\n",
       "    </tr>\n",
       "  </tbody>\n",
       "</table>\n",
       "</div>"
      ],
      "text/plain": [
       "   culmen_length_mm  culmen_depth_mm  flipper_length_mm  body_mass_g  \\\n",
       "0              39.1             18.7              181.0       3750.0   \n",
       "1              39.5             17.4              186.0       3800.0   \n",
       "2              40.3             18.0              195.0       3250.0   \n",
       "4              36.7             19.3              193.0       3450.0   \n",
       "5              39.3             20.6              190.0       3650.0   \n",
       "\n",
       "   sex_FEMALE  sex_MALE       PC1       PC2  cluster  \n",
       "0           0         1 -0.729521 -2.097192        1  \n",
       "1           1         0 -1.929304  0.412150        2  \n",
       "2           1         0 -1.953525  0.308485        2  \n",
       "4           1         0 -2.288178 -0.158278        2  \n",
       "5           0         1 -0.621822 -2.514020        1  "
      ]
     },
     "execution_count": 36,
     "metadata": {},
     "output_type": "execute_result"
    }
   ],
   "source": [
    "df_dummy.head()"
   ]
  },
  {
   "cell_type": "code",
   "execution_count": 47,
   "id": "fb8815b2",
   "metadata": {},
   "outputs": [
    {
     "data": {
      "text/plain": [
       "4"
      ]
     },
     "execution_count": 47,
     "metadata": {},
     "output_type": "execute_result"
    }
   ],
   "source": [
    "df_dummy['cluster'].nunique()"
   ]
  },
  {
   "cell_type": "code",
   "execution_count": 68,
   "id": "83f0725f",
   "metadata": {
    "scrolled": false
   },
   "outputs": [
    {
     "data": {
      "image/png": "[encoded data removed]",
      "text/plain": [
       "<Figure size 1000x800 with 1 Axes>"
      ]
     },
     "metadata": {},
     "output_type": "display_data"
    }
   ],
   "source": [
    "# Plotting the clusters using PC1 andPC2 finally:\n",
    "plt.figure(figsize = (10, 8))\n",
    "sns.scatterplot(x=df_dummy['PC1'],y=df_dummy['PC2'],hue=df_dummy['cluster'],palette='Set1') \n",
    "plt.show()"
   ]
  },
  {
   "cell_type": "code",
   "execution_count": 72,
   "id": "1df361da",
   "metadata": {},
   "outputs": [
    {
     "data": {
      "application/vnd.plotly.v1+json": {
       "config": {
        "plotlyServerURL": "https://plot.ly"
       },
       "data": [
        {
         "hovertemplate": "PC1=%{x}<br>PC2=%{y}<br>cluster=%{marker.color}<extra></extra>",
         "legendgroup": "",
         "marker": {
          "color": [
           1,
           2,
           2,
           2,
           1,
           2,
           1,
           2,
           1,
           2,
           2,
           1,
           2,
           1,
           2,
           1,
           2,
           1,
           1,
           2,
           1,
           2,
           2,
           1,
           2,
           1,
           2,
           1,
           2,
           1,
           1,
           2,
           2,
           1,
           2,
           1,
           2,
           1,
           2,
           1,
           1,
           2,
           1,
           2,
           1,
           2,
           1,
           2,
           1,
           2,
           1,
           2,
           1,
           2,
           1,
           2,
           1,
           2,
           1,
           2,
           1,
           2,
           1,
           2,
           1,
           2,
           1,
           2,
           1,
           2,
           1,
           2,
           1,
           2,
           1,
           2,
           1,
           2,
           1,
           1,
           2,
           1,
           2,
           2,
           1,
           2,
           1,
           2,
           1,
           2,
           1,
           2,
           1,
           2,
           1,
           2,
           1,
           2,
           1,
           2,
           1,
           2,
           1,
           2,
           1,
           2,
           1,
           2,
           1,
           2,
           1,
           2,
           1,
           2,
           1,
           2,
           1,
           2,
           1,
           2,
           1,
           2,
           1,
           2,
           1,
           2,
           1,
           2,
           1,
           2,
           1,
           2,
           1,
           2,
           1,
           2,
           1,
           2,
           1,
           1,
           2,
           2,
           1,
           2,
           1,
           2,
           1,
           1,
           2,
           1,
           2,
           2,
           1,
           2,
           1,
           2,
           1,
           2,
           1,
           2,
           1,
           1,
           2,
           2,
           1,
           2,
           1,
           2,
           1,
           2,
           1,
           2,
           1,
           2,
           1,
           2,
           1,
           2,
           1,
           1,
           2,
           2,
           1,
           2,
           1,
           1,
           2,
           1,
           2,
           2,
           1,
           2,
           1,
           1,
           2,
           2,
           1,
           2,
           1,
           2,
           1,
           2,
           1,
           1,
           2,
           1,
           2,
           2,
           1,
           2,
           1,
           1,
           2,
           0,
           3,
           0,
           3,
           3,
           0,
           0,
           3,
           0,
           3,
           0,
           3,
           0,
           3,
           0,
           3,
           0,
           3,
           0,
           3,
           3,
           0,
           0,
           3,
           0,
           3,
           3,
           0,
           3,
           3,
           0,
           0,
           3,
           0,
           3,
           0,
           3,
           0,
           3,
           0,
           3,
           0,
           3,
           3,
           0,
           0,
           3,
           0,
           3,
           0,
           3,
           0,
           3,
           0,
           3,
           0,
           3,
           0,
           3,
           0,
           3,
           0,
           3,
           0,
           3,
           3,
           0,
           3,
           0,
           3,
           3,
           0,
           0,
           3,
           0,
           3,
           0,
           3,
           0,
           3,
           0,
           3,
           0,
           3,
           0,
           3,
           0,
           3,
           0,
           3,
           0,
           3,
           0,
           3,
           3,
           0,
           0,
           3,
           0,
           3,
           0,
           3,
           3,
           0,
           3,
           0,
           3,
           0,
           3,
           0,
           3,
           0,
           3,
           0,
           3,
           0,
           0,
           3,
           0,
           3
          ],
          "coloraxis": "coloraxis",
          "symbol": "circle"
         },
         "mode": "markers",
         "name": "",
         "orientation": "v",
         "showlegend": false,
         "type": "scatter",
         "x": [
          -0.7295206942089537,
          -1.929304395012732,
          -1.9535247906962634,
          -2.2881776092127124,
          -0.6218216488114592,
          -2.29152164686513,
          0.2706806763099287,
          -2.3341604871793695,
          -0.5970232880736827,
          -2.290978524842078,
          -2.035563127417887,
          0.4035861271475804,
          -2.7868263976563252,
          0.3263419812307781,
          -2.801920406781638,
          -0.9706302854667107,
          -2.259600461343462,
          -0.4895410854181493,
          -0.6351313725379647,
          -2.351875891284093,
          -0.659573800735103,
          -2.235092427433207,
          -3.044813222406198,
          -0.5414003178864665,
          -2.4948591279286414,
          -0.8408784988298209,
          -2.2094606402888575,
          -0.4040619416374898,
          -2.137253500967476,
          -0.14826697460361374,
          -0.4235732381147397,
          -2.1658200545046378,
          -2.7221100457547984,
          -0.033565177757565186,
          -2.7658797649160167,
          0.005002377270068827,
          -2.740834530482377,
          0.514654099770127,
          -2.629348016479325,
          0.14849101667044107,
          -0.7652025497418911,
          -2.333973770082153,
          -0.07969752593940721,
          -2.135339560542881,
          -0.07792510598393133,
          -2.4139340253189974,
          0.27838955897533374,
          -2.920819367487674,
          -0.22670217841004223,
          -2.1355451748786956,
          -0.17502737544971483,
          -2.8770409668523667,
          -0.4364961503570606,
          -2.6383794263909577,
          0.14359611919095194,
          -2.2097699581725943,
          0.03729400448851304,
          -2.8226209683884824,
          0.030127749016962364,
          -2.128871984334442,
          -0.14065231144964474,
          -2.490226415863551,
          0.4550784580119424,
          -2.527681092902789,
          -0.2541954636400351,
          -1.7208885541761316,
          0.5911662352390523,
          -2.183495898191726,
          0.37832992308127356,
          -1.6610017309398035,
          -0.7402437981159902,
          -2.2122646236258494,
          0.11576818006576219,
          -2.5819008323277104,
          0.7779170681075859,
          -2.231865751532075,
          -0.4100916820515977,
          -2.2509892917547485,
          -0.3639884908876475,
          -0.6780618860009388,
          -2.321079355376535,
          -0.4332754183995941,
          -2.079764149782958,
          -1.891769936783817,
          0.6487827131249523,
          -2.6322485553073562,
          -0.02695867640243651,
          -2.4672488824981813,
          0.6630133132801614,
          -2.0643228412007195,
          0.2759555449499209,
          -3.179682884679784,
          0.21265216719000152,
          -2.1714230444493485,
          0.6879714762592493,
          -2.5218219591413136,
          -0.3136996495590544,
          -2.4679740526223783,
          -0.7214870656796539,
          -1.5715479774615444,
          -0.5031883652222674,
          -2.5757143573799173,
          0.7706909637705919,
          -1.5418574792187019,
          0.5415141238148924,
          -2.0774391946023205,
          0.3340120567773547,
          -1.9529596812829941,
          0.30997736554939975,
          -2.470010402361907,
          -0.38634413368192305,
          -2.3828960648300463,
          -0.556479183781588,
          -2.554100021974011,
          -0.5061622234838712,
          -2.4050250247222995,
          0.26883144521843505,
          -2.6267313657059534,
          0.14088682775059144,
          -2.1623758050067434,
          0.32215213007966836,
          -2.2484302247015946,
          0.8781369776129669,
          -2.2131705669035964,
          -0.06023046271221449,
          -2.1840163503601233,
          0.23390920129005696,
          -2.26042430989593,
          -0.06965906452453469,
          -2.4734607872750534,
          0.038607944078269014,
          -2.343973095074211,
          0.11035120230983862,
          -1.8625084765995998,
          -0.4571180596774802,
          -2.7738484031986,
          -0.17205066339607106,
          -2.3575559732784312,
          -0.6638014195438161,
          -0.08883433834137679,
          -2.5159969142390026,
          -2.1546664275121423,
          -0.3740945871352533,
          -2.213997576981308,
          0.3216765936257586,
          -1.394255492070035,
          0.6861614308541635,
          0.5533673040065133,
          -1.6679117933309968,
          0.8013686758832768,
          -0.9998974035892123,
          -2.0881081796719987,
          0.8342963242613708,
          -1.000841846252585,
          0.699787361178463,
          -1.1541115283034706,
          0.6099735464199318,
          -1.4190629582767205,
          1.2251613772597876,
          -1.3987435489603572,
          0.9842342580979905,
          0.3244012197678955,
          -0.716822310893269,
          -1.5588475925620195,
          1.009189825754649,
          -1.9871513284167084,
          0.2399053966038127,
          -2.104178410620597,
          0.5761804823961172,
          -1.4020744007946078,
          1.078854035287052,
          -0.9040348349163569,
          0.7602255155267351,
          -1.301878151341513,
          1.5892627032348676,
          -2.0982531538728098,
          1.3414926832561984,
          -1.8834656060180288,
          1.1888762431051478,
          0.5106832402445837,
          -0.7327216542756233,
          -1.0143445871435515,
          1.798270452079028,
          -1.7636398019563835,
          1.6216616903556729,
          1.1173165180015523,
          -1.4623050772126573,
          0.5689159724911133,
          -1.264630457403301,
          -0.7947007120292837,
          1.3500577330172057,
          -1.2381731452080689,
          1.3992201773988981,
          0.1510866032531963,
          -0.7657656742073703,
          -1.0163305720541234,
          1.0413152344029197,
          -1.3123027417761404,
          1.0606571507847549,
          -1.9318603005406412,
          0.6680320156593894,
          -1.5857918342692965,
          0.9325812286123011,
          0.9008258830932275,
          -1.5028903470471848,
          1.2122080100687402,
          -1.2651744758063674,
          -1.187969796489582,
          1.5657429442264637,
          -1.3710626502531313,
          0.5771901292217864,
          1.3964908114263133,
          -0.7834245780678846,
          0.23634958747250917,
          3.247712140080387,
          0.3057669233090494,
          2.925456002346195,
          2.497433086838541,
          0.24152700424144713,
          0.2572902987131523,
          2.371379950019872,
          -0.13544526402219975,
          2.202677971038039,
          -0.022110793875248783,
          2.6094901593693374,
          0.34570638021423566,
          2.7695896502365454,
          -0.1246415988070847,
          2.889823521444576,
          -0.3714059360477254,
          3.3439004218315245,
          0.26082766126323337,
          2.7450938833204424,
          3.014040095177483,
          0.5049171485438814,
          0.16869719423057394,
          2.0671567658070313,
          0.44192554090891895,
          2.139264165668133,
          2.6312910956108406,
          0.34457215274602143,
          2.8909699220893246,
          2.5537400132171455,
          -0.050117807211575174,
          0.2625696262699822,
          4.180342931168997,
          1.0667193042757932,
          2.587458767609755,
          0.2694071717900018,
          2.057794688531844,
          -0.16149193619261584,
          2.2172228203790185,
          -0.5266178421443218,
          3.0686838250973802,
          -0.028751736710745247,
          2.2399663356894877,
          2.9510519792449648,
          0.4385901363402142,
          -0.09216919843509006,
          2.958879993438446,
          0.5804958104127499,
          2.1373953548736115,
          0.382896396614614,
          2.709624058452175,
          -0.03792631677031811,
          2.7463761414042533,
          0.6301459644248858,
          2.1667131238304513,
          -0.2333203084667128,
          2.2073174071651938,
          -0.23477423423516638,
          3.059947272303723,
          -0.16859209112185428,
          2.495437524073865,
          0.18737199659362577,
          3.642545270185924,
          0.5322460787981093,
          3.1913911769308405,
          3.244827430783329,
          0.3825858037832823,
          3.0738843841061683,
          0.5485383422603067,
          2.265135254385657,
          2.4723416617428193,
          0.7877166785356743,
          0.4129510364869875,
          3.223243077940954,
          0.2624174444707503,
          3.1830191443342946,
          0.4111787811835054,
          2.774293818140802,
          0.4847209286608517,
          3.037643577019202,
          0.4040006602686237,
          2.8530125798246857,
          0.2844457685227064,
          3.099247948074835,
          0.2266836414280535,
          2.8569503666350733,
          0.5553083022111852,
          3.2642512772384475,
          0.7275988111344545,
          3.100767974385602,
          0.2759614447217655,
          2.9867347311579238,
          0.3116441966347238,
          2.9066920510185983,
          2.2701844341576107,
          0.8014205748456176,
          0.12857972414625976,
          2.8635445301616755,
          0.778529430470371,
          3.5312425970440473,
          0.5763563733541901,
          3.0855505619113703,
          2.3676903118529427,
          -0.14415468804436532,
          3.0566185917970823,
          -0.10735186169575138,
          2.3468065956857043,
          0.9144903619097083,
          3.3879297765119527,
          0.030550821404101088,
          3.241096627073967,
          0.2981460084782121,
          3.7746237109458645,
          1.121490387532699,
          3.075672963769818,
          0.6556531709266901,
          0.5620642253911223,
          3.085743414423838,
          0.5125267865782005,
          2.4837925310964866
         ],
         "xaxis": "x",
         "y": [
          -2.0971919929977245,
          0.4121497031409808,
          0.30848539809838016,
          -0.15827772564724615,
          -2.5140204904923222,
          0.12644554937792038,
          -1.856133487164723,
          0.15078106691529064,
          -2.6572837169457784,
          0.19172241824563838,
          0.01409268939532887,
          -2.139845886641383,
          -0.14276205239492415,
          -2.464795263737837,
          -0.254639414101498,
          -2.1780410436310307,
          -0.14764826212951693,
          -1.7910164830897484,
          -1.6433448174201122,
          -0.10802186351176586,
          -2.0423070331463107,
          0.15619309519718885,
          -0.4484670936246223,
          -2.111242702197288,
          0.3285544165485253,
          -1.97343653540823,
          0.21523699759864393,
          -2.0281365874932398,
          0.5712692001152697,
          -2.424999948254546,
          -2.2655441204204916,
          -0.07477592309670285,
          -0.44061406519191165,
          -1.936352837533874,
          -0.06557282442490805,
          -1.6321005554735357,
          -0.1545153064658225,
          -1.8442676469588994,
          0.3184441370871653,
          -1.7258766005140196,
          -2.209668146874933,
          0.2019194207034912,
          -2.5123197221707985,
          0.25063315451490586,
          -1.8617532600953344,
          0.1846116158085796,
          -1.8112068012681481,
          -0.0796067488199325,
          -1.8182911489783524,
          0.3143978314657481,
          -1.8277326980771256,
          0.2812472614894609,
          -1.9631638561930438,
          0.33062618357969764,
          -2.352785834139884,
          0.43626327697987277,
          -1.595445184986871,
          0.1888527014339694,
          -1.547324115507543,
          0.8118270569291031,
          -1.9532770079441306,
          0.5145288806810291,
          -1.7347600620124703,
          -0.15090535782486358,
          -1.7608187954805081,
          0.6380247670515597,
          -1.6003575867296305,
          0.37624643088753085,
          -1.5478541434878148,
          0.7107047095199257,
          -2.2486470379439547,
          0.7259923112352273,
          -1.8055391484815664,
          0.3170091094415977,
          -1.1384920232948823,
          -0.05249662219098185,
          -2.018205664190809,
          0.2545283505553528,
          -2.320899675504662,
          -2.1870242531741457,
          -0.01193895613898962,
          -2.045779438049194,
          0.005145417543475337,
          0.4517853977652207,
          -1.2211801137404192,
          0.2964179410823925,
          -1.6292423157926341,
          0.2926568828604642,
          -1.4109191781786172,
          0.07700926446730755,
          -1.5460662628966348,
          0.32462523536473437,
          -1.6414210071593094,
          0.2920674978934558,
          -1.7631085178774322,
          0.5856776653037097,
          -2.2134875396035683,
          -0.03983583349370554,
          -2.1298310700309404,
          0.73276767873808,
          -2.287489534309411,
          0.2589072426375068,
          -1.532143057024654,
          0.9385791430694276,
          -2.069508557238663,
          0.33655106576416,
          -1.8215297437788316,
          -0.48603077728399763,
          -1.5055229224488786,
          0.35752864132071177,
          -2.2910165801136793,
          0.4333185166177343,
          -1.954060834435647,
          0.28926900447245574,
          -2.150553208040718,
          0.24915799853009982,
          -1.5052390360088868,
          0.6337298948318947,
          -1.7124628176579682,
          0.32573759040557804,
          -1.4962049299634108,
          0.43364743444022663,
          -1.0976471156770409,
          0.21628710556083883,
          -1.8912611057252584,
          0.1053683015374837,
          -1.4998184964489143,
          0.2605605961370017,
          -1.4549390384164569,
          0.2785254673058253,
          -2.0474678333143994,
          0.536107242574578,
          -1.4576143137036175,
          0.5792137788269555,
          -1.5337840033254941,
          0.7491248193783305,
          -1.3458531463667829,
          0.5084823094951437,
          -2.0343005116931034,
          -1.7511362101999748,
          -0.07000268877020135,
          0.34289338979396866,
          -1.668695081459491,
          0.4442697984330781,
          -1.4965423590639786,
          0.4390839649010623,
          -1.795170278662829,
          -1.8023986364291231,
          0.0877275055513223,
          -1.8608487762576833,
          0.6835402971204207,
          -0.026628788163685097,
          -1.3785903061480382,
          0.333584212923706,
          -1.9002184521299397,
          0.5634093764948099,
          -2.088875215313706,
          0.5281951614922604,
          -1.1780724188438019,
          0.6525230322863127,
          -1.6734488432047954,
          -2.063242350033053,
          0.47436571929868926,
          0.1628603903352109,
          -1.3085190559007382,
          0.33771407337366666,
          -1.420532660789322,
          0.5403858707844242,
          -1.8424205359354597,
          0.462110394845697,
          -1.524343510849088,
          0.5042095976333331,
          -1.582730346976632,
          0.4929544917628548,
          -1.5554671166003522,
          0.5699423052379622,
          -1.9271380839486618,
          0.6010226714578301,
          -1.3590078322130716,
          -1.6100141065564757,
          1.0466665930303432,
          0.47967820185117954,
          -1.6208902524092081,
          0.6678614797102763,
          -1.5236180696579777,
          -1.4938143196625737,
          0.4840714195375699,
          -1.7353411130495824,
          0.791168713915382,
          0.6434445884686324,
          -1.2315331949735493,
          0.43439873876977125,
          -1.4003116556176471,
          -1.8665669362734616,
          0.8560437517407071,
          1.0492801278912411,
          -1.4932273938958691,
          0.6580610006210419,
          -1.6574097348446926,
          0.41325678465037924,
          -1.6201435542619036,
          0.7436703209361101,
          -1.7442292906333854,
          -1.4641543927653493,
          0.0037444508020297736,
          -1.5313654091653857,
          0.8512711090026288,
          0.8073765368257677,
          -1.5242512516024702,
          0.5208097686217045,
          -1.4899769326914567,
          -1.271506505656273,
          0.4479679330518995,
          2.5509909295400077,
          0.3682557500147217,
          2.2808457301791147,
          0.4492620380675475,
          0.49161132910974265,
          2.453655908121705,
          2.170119449274686,
          0.2671805888512204,
          2.3729471231454653,
          0.13831260022277497,
          2.4050087573763843,
          0.07175134825651452,
          2.484624659892977,
          0.5343379752764873,
          2.0163778688844674,
          0.293421264232971,
          2.283284938478823,
          0.6399523583488299,
          2.1713881458094955,
          0.4648748132063199,
          0.7343724292577054,
          2.330208069780066,
          2.1718383633602447,
          -0.018640022000259607,
          2.730251301561979,
          0.20851934924808999,
          0.3964049725090446,
          2.2442853916517596,
          0.4271573925927497,
          0.35493379551368165,
          2.183303090666577,
          2.166281353335927,
          0.3962755923943206,
          2.4499181934344736,
          0.05183956722588929,
          2.4818604804850546,
          -0.38695292081327237,
          2.2889772957596004,
          -0.02999410654432587,
          2.142696987312527,
          0.34553591683791296,
          2.3124942585521318,
          0.24140179510889528,
          0.2919172700817825,
          2.512762649190232,
          2.2302457286913517,
          0.32304286999940673,
          2.6815278824709017,
          0.020125047375200298,
          2.3056908730476713,
          0.7189238041054217,
          2.113093958201735,
          0.5052827306368386,
          2.4064837110459334,
          0.193716744130559,
          2.1800720604249193,
          0.3159871734976764,
          2.01660368353644,
          0.5218242382487694,
          2.2142066203312503,
          0.45069726802837146,
          2.3676939371762797,
          0.6408203978428337,
          2.4545858145964505,
          0.20832261669619734,
          0.3920816930146057,
          2.4367137942626687,
          0.5989635921964549,
          2.1828690663319454,
          0.16573424202015985,
          0.220009752734946,
          2.3506708388861344,
          2.148808189016588,
          0.461029228469516,
          2.2415283117687164,
          0.23729941186581982,
          2.4931953967850538,
          0.15813611033950356,
          2.2469260144463767,
          0.3753584304468722,
          2.2093298935610637,
          0.28089230567546497,
          2.4221952625430383,
          0.0021655254985937984,
          2.3054010610843867,
          0.6922194814942371,
          2.433508753713923,
          0.1508597461627599,
          2.269522291009881,
          0.04274215747939704,
          2.213519744204627,
          0.2790141600040266,
          2.200616634126871,
          0.36651684752032165,
          0.02804827671854908,
          2.454717493214665,
          2.0686814871672214,
          0.11097947327298614,
          2.285644564925361,
          0.18431827386636815,
          2.0478309499043097,
          0.6693900280351935,
          0.0001775156112227049,
          2.0297288638671453,
          0.2960356950194199,
          2.2037078637454046,
          0.20400522110660876,
          2.2265459458617434,
          0.5258391707427216,
          1.9586584021600135,
          0.3479745335491993,
          2.3737866379854746,
          0.5850906912384133,
          0.9748849375972803,
          0.27265763692446005,
          2.577631948450175,
          2.387537774181315,
          0.3990180423359983,
          2.21849103790018,
          -0.013161612967524338
         ],
         "yaxis": "y"
        }
       ],
       "layout": {
        "coloraxis": {
         "colorbar": {
          "title": {
           "text": "cluster"
          }
         },
         "colorscale": [
          [
           0,
           "#0d0887"
          ],
          [
           0.1111111111111111,
           "#46039f"
          ],
          [
           0.2222222222222222,
           "#7201a8"
          ],
          [
           0.3333333333333333,
           "#9c179e"
          ],
          [
           0.4444444444444444,
           "#bd3786"
          ],
          [
           0.5555555555555556,
           "#d8576b"
          ],
          [
           0.6666666666666666,
           "#ed7953"
          ],
          [
           0.7777777777777778,
           "#fb9f3a"
          ],
          [
           0.8888888888888888,
           "#fdca26"
          ],
          [
           1,
           "#f0f921"
          ]
         ]
        },
        "height": 600,
        "legend": {
         "tracegroupgap": 0
        },
        "margin": {
         "t": 60
        },
        "template": {
         "data": {
          "bar": [
           {
            "error_x": {
             "color": "#2a3f5f"
            },
            "error_y": {
             "color": "#2a3f5f"
            },
            "marker": {
             "line": {
              "color": "#E5ECF6",
              "width": 0.5
             },
             "pattern": {
              "fillmode": "overlay",
              "size": 10,
              "solidity": 0.2
             }
            },
            "type": "bar"
           }
          ],
          "barpolar": [
           {
            "marker": {
             "line": {
              "color": "#E5ECF6",
              "width": 0.5
             },
             "pattern": {
              "fillmode": "overlay",
              "size": 10,
              "solidity": 0.2
             }
            },
            "type": "barpolar"
           }
          ],
          "carpet": [
           {
            "aaxis": {
             "endlinecolor": "#2a3f5f",
             "gridcolor": "white",
             "linecolor": "white",
             "minorgridcolor": "white",
             "startlinecolor": "#2a3f5f"
            },
            "baxis": {
             "endlinecolor": "#2a3f5f",
             "gridcolor": "white",
             "linecolor": "white",
             "minorgridcolor": "white",
             "startlinecolor": "#2a3f5f"
            },
            "type": "carpet"
           }
          ],
          "choropleth": [
           {
            "colorbar": {
             "outlinewidth": 0,
             "ticks": ""
            },
            "type": "choropleth"
           }
          ],
          "contour": [
           {
            "colorbar": {
             "outlinewidth": 0,
             "ticks": ""
            },
            "colorscale": [
             [
              0,
              "#0d0887"
             ],
             [
              0.1111111111111111,
              "#46039f"
             ],
             [
              0.2222222222222222,
              "#7201a8"
             ],
             [
              0.3333333333333333,
              "#9c179e"
             ],
             [
              0.4444444444444444,
              "#bd3786"
             ],
             [
              0.5555555555555556,
              "#d8576b"
             ],
             [
              0.6666666666666666,
              "#ed7953"
             ],
             [
              0.7777777777777778,
              "#fb9f3a"
             ],
             [
              0.8888888888888888,
              "#fdca26"
             ],
             [
              1,
              "#f0f921"
             ]
            ],
            "type": "contour"
           }
          ],
          "contourcarpet": [
           {
            "colorbar": {
             "outlinewidth": 0,
             "ticks": ""
            },
            "type": "contourcarpet"
           }
          ],
          "heatmap": [
           {
            "colorbar": {
             "outlinewidth": 0,
             "ticks": ""
            },
            "colorscale": [
             [
              0,
              "#0d0887"
             ],
             [
              0.1111111111111111,
              "#46039f"
             ],
             [
              0.2222222222222222,
              "#7201a8"
             ],
             [
              0.3333333333333333,
              "#9c179e"
             ],
             [
              0.4444444444444444,
              "#bd3786"
             ],
             [
              0.5555555555555556,
              "#d8576b"
             ],
             [
              0.6666666666666666,
              "#ed7953"
             ],
             [
              0.7777777777777778,
              "#fb9f3a"
             ],
             [
              0.8888888888888888,
              "#fdca26"
             ],
             [
              1,
              "#f0f921"
             ]
            ],
            "type": "heatmap"
           }
          ],
          "heatmapgl": [
           {
            "colorbar": {
             "outlinewidth": 0,
             "ticks": ""
            },
            "colorscale": [
             [
              0,
              "#0d0887"
             ],
             [
              0.1111111111111111,
              "#46039f"
             ],
             [
              0.2222222222222222,
              "#7201a8"
             ],
             [
              0.3333333333333333,
              "#9c179e"
             ],
             [
              0.4444444444444444,
              "#bd3786"
             ],
             [
              0.5555555555555556,
              "#d8576b"
             ],
             [
              0.6666666666666666,
              "#ed7953"
             ],
             [
              0.7777777777777778,
              "#fb9f3a"
             ],
             [
              0.8888888888888888,
              "#fdca26"
             ],
             [
              1,
              "#f0f921"
             ]
            ],
            "type": "heatmapgl"
           }
          ],
          "histogram": [
           {
            "marker": {
             "pattern": {
              "fillmode": "overlay",
              "size": 10,
              "solidity": 0.2
             }
            },
            "type": "histogram"
           }
          ],
          "histogram2d": [
           {
            "colorbar": {
             "outlinewidth": 0,
             "ticks": ""
            },
            "colorscale": [
             [
              0,
              "#0d0887"
             ],
             [
              0.1111111111111111,
              "#46039f"
             ],
             [
              0.2222222222222222,
              "#7201a8"
             ],
             [
              0.3333333333333333,
              "#9c179e"
             ],
             [
              0.4444444444444444,
              "#bd3786"
             ],
             [
              0.5555555555555556,
              "#d8576b"
             ],
             [
              0.6666666666666666,
              "#ed7953"
             ],
             [
              0.7777777777777778,
              "#fb9f3a"
             ],
             [
              0.8888888888888888,
              "#fdca26"
             ],
             [
              1,
              "#f0f921"
             ]
            ],
            "type": "histogram2d"
           }
          ],
          "histogram2dcontour": [
           {
            "colorbar": {
             "outlinewidth": 0,
             "ticks": ""
            },
            "colorscale": [
             [
              0,
              "#0d0887"
             ],
             [
              0.1111111111111111,
              "#46039f"
             ],
             [
              0.2222222222222222,
              "#7201a8"
             ],
             [
              0.3333333333333333,
              "#9c179e"
             ],
             [
              0.4444444444444444,
              "#bd3786"
             ],
             [
              0.5555555555555556,
              "#d8576b"
             ],
             [
              0.6666666666666666,
              "#ed7953"
             ],
             [
              0.7777777777777778,
              "#fb9f3a"
             ],
             [
              0.8888888888888888,
              "#fdca26"
             ],
             [
              1,
              "#f0f921"
             ]
            ],
            "type": "histogram2dcontour"
           }
          ],
          "mesh3d": [
           {
            "colorbar": {
             "outlinewidth": 0,
             "ticks": ""
            },
            "type": "mesh3d"
           }
          ],
          "parcoords": [
           {
            "line": {
             "colorbar": {
              "outlinewidth": 0,
              "ticks": ""
             }
            },
            "type": "parcoords"
           }
          ],
          "pie": [
           {
            "automargin": true,
            "type": "pie"
           }
          ],
          "scatter": [
           {
            "fillpattern": {
             "fillmode": "overlay",
             "size": 10,
             "solidity": 0.2
            },
            "type": "scatter"
           }
          ],
          "scatter3d": [
           {
            "line": {
             "colorbar": {
              "outlinewidth": 0,
              "ticks": ""
             }
            },
            "marker": {
             "colorbar": {
              "outlinewidth": 0,
              "ticks": ""
             }
            },
            "type": "scatter3d"
           }
          ],
          "scattercarpet": [
           {
            "marker": {
             "colorbar": {
              "outlinewidth": 0,
              "ticks": ""
             }
            },
            "type": "scattercarpet"
           }
          ],
          "scattergeo": [
           {
            "marker": {
             "colorbar": {
              "outlinewidth": 0,
              "ticks": ""
             }
            },
            "type": "scattergeo"
           }
          ],
          "scattergl": [
           {
            "marker": {
             "colorbar": {
              "outlinewidth": 0,
              "ticks": ""
             }
            },
            "type": "scattergl"
           }
          ],
          "scattermapbox": [
           {
            "marker": {
             "colorbar": {
              "outlinewidth": 0,
              "ticks": ""
             }
            },
            "type": "scattermapbox"
           }
          ],
          "scatterpolar": [
           {
            "marker": {
             "colorbar": {
              "outlinewidth": 0,
              "ticks": ""
             }
            },
            "type": "scatterpolar"
           }
          ],
          "scatterpolargl": [
           {
            "marker": {
             "colorbar": {
              "outlinewidth": 0,
              "ticks": ""
             }
            },
            "type": "scatterpolargl"
           }
          ],
          "scatterternary": [
           {
            "marker": {
             "colorbar": {
              "outlinewidth": 0,
              "ticks": ""
             }
            },
            "type": "scatterternary"
           }
          ],
          "surface": [
           {
            "colorbar": {
             "outlinewidth": 0,
             "ticks": ""
            },
            "colorscale": [
             [
              0,
              "#0d0887"
             ],
             [
              0.1111111111111111,
              "#46039f"
             ],
             [
              0.2222222222222222,
              "#7201a8"
             ],
             [
              0.3333333333333333,
              "#9c179e"
             ],
             [
              0.4444444444444444,
              "#bd3786"
             ],
             [
              0.5555555555555556,
              "#d8576b"
             ],
             [
              0.6666666666666666,
              "#ed7953"
             ],
             [
              0.7777777777777778,
              "#fb9f3a"
             ],
             [
              0.8888888888888888,
              "#fdca26"
             ],
             [
              1,
              "#f0f921"
             ]
            ],
            "type": "surface"
           }
          ],
          "table": [
           {
            "cells": {
             "fill": {
              "color": "#EBF0F8"
             },
             "line": {
              "color": "white"
             }
            },
            "header": {
             "fill": {
              "color": "#C8D4E3"
             },
             "line": {
              "color": "white"
             }
            },
            "type": "table"
           }
          ]
         },
         "layout": {
          "annotationdefaults": {
           "arrowcolor": "#2a3f5f",
           "arrowhead": 0,
           "arrowwidth": 1
          },
          "autotypenumbers": "strict",
          "coloraxis": {
           "colorbar": {
            "outlinewidth": 0,
            "ticks": ""
           }
          },
          "colorscale": {
           "diverging": [
            [
             0,
             "#8e0152"
            ],
            [
             0.1,
             "#c51b7d"
            ],
            [
             0.2,
             "#de77ae"
            ],
            [
             0.3,
             "#f1b6da"
            ],
            [
             0.4,
             "#fde0ef"
            ],
            [
             0.5,
             "#f7f7f7"
            ],
            [
             0.6,
             "#e6f5d0"
            ],
            [
             0.7,
             "#b8e186"
            ],
            [
             0.8,
             "#7fbc41"
            ],
            [
             0.9,
             "#4d9221"
            ],
            [
             1,
             "#276419"
            ]
           ],
           "sequential": [
            [
             0,
             "#0d0887"
            ],
            [
             0.1111111111111111,
             "#46039f"
            ],
            [
             0.2222222222222222,
             "#7201a8"
            ],
            [
             0.3333333333333333,
             "#9c179e"
            ],
            [
             0.4444444444444444,
             "#bd3786"
            ],
            [
             0.5555555555555556,
             "#d8576b"
            ],
            [
             0.6666666666666666,
             "#ed7953"
            ],
            [
             0.7777777777777778,
             "#fb9f3a"
            ],
            [
             0.8888888888888888,
             "#fdca26"
            ],
            [
             1,
             "#f0f921"
            ]
           ],
           "sequentialminus": [
            [
             0,
             "#0d0887"
            ],
            [
             0.1111111111111111,
             "#46039f"
            ],
            [
             0.2222222222222222,
             "#7201a8"
            ],
            [
             0.3333333333333333,
             "#9c179e"
            ],
            [
             0.4444444444444444,
             "#bd3786"
            ],
            [
             0.5555555555555556,
             "#d8576b"
            ],
            [
             0.6666666666666666,
             "#ed7953"
            ],
            [
             0.7777777777777778,
             "#fb9f3a"
            ],
            [
             0.8888888888888888,
             "#fdca26"
            ],
            [
             1,
             "#f0f921"
            ]
           ]
          },
          "colorway": [
           "#636efa",
           "#EF553B",
           "#00cc96",
           "#ab63fa",
           "#FFA15A",
           "#19d3f3",
           "#FF6692",
           "#B6E880",
           "#FF97FF",
           "#FECB52"
          ],
          "font": {
           "color": "#2a3f5f"
          },
          "geo": {
           "bgcolor": "white",
           "lakecolor": "white",
           "landcolor": "#E5ECF6",
           "showlakes": true,
           "showland": true,
           "subunitcolor": "white"
          },
          "hoverlabel": {
           "align": "left"
          },
          "hovermode": "closest",
          "mapbox": {
           "style": "light"
          },
          "paper_bgcolor": "white",
          "plot_bgcolor": "#E5ECF6",
          "polar": {
           "angularaxis": {
            "gridcolor": "white",
            "linecolor": "white",
            "ticks": ""
           },
           "bgcolor": "#E5ECF6",
           "radialaxis": {
            "gridcolor": "white",
            "linecolor": "white",
            "ticks": ""
           }
          },
          "scene": {
           "xaxis": {
            "backgroundcolor": "#E5ECF6",
            "gridcolor": "white",
            "gridwidth": 2,
            "linecolor": "white",
            "showbackground": true,
            "ticks": "",
            "zerolinecolor": "white"
           },
           "yaxis": {
            "backgroundcolor": "#E5ECF6",
            "gridcolor": "white",
            "gridwidth": 2,
            "linecolor": "white",
            "showbackground": true,
            "ticks": "",
            "zerolinecolor": "white"
           },
           "zaxis": {
            "backgroundcolor": "#E5ECF6",
            "gridcolor": "white",
            "gridwidth": 2,
            "linecolor": "white",
            "showbackground": true,
            "ticks": "",
            "zerolinecolor": "white"
           }
          },
          "shapedefaults": {
           "line": {
            "color": "#2a3f5f"
           }
          },
          "ternary": {
           "aaxis": {
            "gridcolor": "white",
            "linecolor": "white",
            "ticks": ""
           },
           "baxis": {
            "gridcolor": "white",
            "linecolor": "white",
            "ticks": ""
           },
           "bgcolor": "#E5ECF6",
           "caxis": {
            "gridcolor": "white",
            "linecolor": "white",
            "ticks": ""
           }
          },
          "title": {
           "x": 0.05
          },
          "xaxis": {
           "automargin": true,
           "gridcolor": "white",
           "linecolor": "white",
           "ticks": "",
           "title": {
            "standoff": 15
           },
           "zerolinecolor": "white",
           "zerolinewidth": 2
          },
          "yaxis": {
           "automargin": true,
           "gridcolor": "white",
           "linecolor": "white",
           "ticks": "",
           "title": {
            "standoff": 15
           },
           "zerolinecolor": "white",
           "zerolinewidth": 2
          }
         }
        },
        "width": 800,
        "xaxis": {
         "anchor": "y",
         "domain": [
          0,
          1
         ],
         "title": {
          "text": "PC1"
         }
        },
        "yaxis": {
         "anchor": "x",
         "domain": [
          0,
          1
         ],
         "title": {
          "text": "PC2"
         }
        }
       }
      },
      "text/html": [
       "<div>                            <div id=\"7751798b-3c5f-4b22-9a61-1a04c9368515\" class=\"plotly-graph-div\" style=\"height:600px; width:800px;\"></div>            <script type=\"text/javascript\">                require([\"plotly\"], function(Plotly) {                    window.PLOTLYENV=window.PLOTLYENV || {};                                    if (document.getElementById(\"7751798b-3c5f-4b22-9a61-1a04c9368515\")) {                    Plotly.newPlot(                        \"7751798b-3c5f-4b22-9a61-1a04c9368515\",                        [{\"hovertemplate\":\"PC1=%{x}\\u003cbr\\u003ePC2=%{y}\\u003cbr\\u003ecluster=%{marker.color}\\u003cextra\\u003e\\u003c\\u002fextra\\u003e\",\"legendgroup\":\"\",\"marker\":{\"color\":[1,2,2,2,1,2,1,2,1,2,2,1,2,1,2,1,2,1,1,2,1,2,2,1,2,1,2,1,2,1,1,2,2,1,2,1,2,1,2,1,1,2,1,2,1,2,1,2,1,2,1,2,1,2,1,2,1,2,1,2,1,2,1,2,1,2,1,2,1,2,1,2,1,2,1,2,1,2,1,1,2,1,2,2,1,2,1,2,1,2,1,2,1,2,1,2,1,2,1,2,1,2,1,2,1,2,1,2,1,2,1,2,1,2,1,2,1,2,1,2,1,2,1,2,1,2,1,2,1,2,1,2,1,2,1,2,1,2,1,1,2,2,1,2,1,2,1,1,2,1,2,2,1,2,1,2,1,2,1,2,1,1,2,2,1,2,1,2,1,2,1,2,1,2,1,2,1,2,1,1,2,2,1,2,1,1,2,1,2,2,1,2,1,1,2,2,1,2,1,2,1,2,1,1,2,1,2,2,1,2,1,1,2,0,3,0,3,3,0,0,3,0,3,0,3,0,3,0,3,0,3,0,3,3,0,0,3,0,3,3,0,3,3,0,0,3,0,3,0,3,0,3,0,3,0,3,3,0,0,3,0,3,0,3,0,3,0,3,0,3,0,3,0,3,0,3,0,3,3,0,3,0,3,3,0,0,3,0,3,0,3,0,3,0,3,0,3,0,3,0,3,0,3,0,3,0,3,3,0,0,3,0,3,0,3,3,0,3,0,3,0,3,0,3,0,3,0,3,0,0,3,0,3],\"coloraxis\":\"coloraxis\",\"symbol\":\"circle\"},\"mode\":\"markers\",\"name\":\"\",\"orientation\":\"v\",\"showlegend\":false,\"x\":[-0.7295206942089537,-1.929304395012732,-1.9535247906962634,-2.2881776092127124,-0.6218216488114592,-2.29152164686513,0.2706806763099287,-2.3341604871793695,-0.5970232880736827,-2.290978524842078,-2.035563127417887,0.4035861271475804,-2.7868263976563252,0.3263419812307781,-2.801920406781638,-0.9706302854667107,-2.259600461343462,-0.4895410854181493,-0.6351313725379647,-2.351875891284093,-0.659573800735103,-2.235092427433207,-3.044813222406198,-0.5414003178864665,-2.4948591279286414,-0.8408784988298209,-2.2094606402888575,-0.4040619416374898,-2.137253500967476,-0.14826697460361374,-0.4235732381147397,-2.1658200545046378,-2.7221100457547984,-0.033565177757565186,-2.7658797649160167,0.005002377270068827,-2.740834530482377,0.514654099770127,-2.629348016479325,0.14849101667044107,-0.7652025497418911,-2.333973770082153,-0.07969752593940721,-2.135339560542881,-0.07792510598393133,-2.4139340253189974,0.27838955897533374,-2.920819367487674,-0.22670217841004223,-2.1355451748786956,-0.17502737544971483,-2.8770409668523667,-0.4364961503570606,-2.6383794263909577,0.14359611919095194,-2.2097699581725943,0.03729400448851304,-2.8226209683884824,0.030127749016962364,-2.128871984334442,-0.14065231144964474,-2.490226415863551,0.4550784580119424,-2.527681092902789,-0.2541954636400351,-1.7208885541761316,0.5911662352390523,-2.183495898191726,0.37832992308127356,-1.6610017309398035,-0.7402437981159902,-2.2122646236258494,0.11576818006576219,-2.5819008323277104,0.7779170681075859,-2.231865751532075,-0.4100916820515977,-2.2509892917547485,-0.3639884908876475,-0.6780618860009388,-2.321079355376535,-0.4332754183995941,-2.079764149782958,-1.891769936783817,0.6487827131249523,-2.6322485553073562,-0.02695867640243651,-2.4672488824981813,0.6630133132801614,-2.0643228412007195,0.2759555449499209,-3.179682884679784,0.21265216719000152,-2.1714230444493485,0.6879714762592493,-2.5218219591413136,-0.3136996495590544,-2.4679740526223783,-0.7214870656796539,-1.5715479774615444,-0.5031883652222674,-2.5757143573799173,0.7706909637705919,-1.5418574792187019,0.5415141238148924,-2.0774391946023205,0.3340120567773547,-1.9529596812829941,0.30997736554939975,-2.470010402361907,-0.38634413368192305,-2.3828960648300463,-0.556479183781588,-2.554100021974011,-0.5061622234838712,-2.4050250247222995,0.26883144521843505,-2.6267313657059534,0.14088682775059144,-2.1623758050067434,0.32215213007966836,-2.2484302247015946,0.8781369776129669,-2.2131705669035964,-0.06023046271221449,-2.1840163503601233,0.23390920129005696,-2.26042430989593,-0.06965906452453469,-2.4734607872750534,0.038607944078269014,-2.343973095074211,0.11035120230983862,-1.8625084765995998,-0.4571180596774802,-2.7738484031986,-0.17205066339607106,-2.3575559732784312,-0.6638014195438161,-0.08883433834137679,-2.5159969142390026,-2.1546664275121423,-0.3740945871352533,-2.213997576981308,0.3216765936257586,-1.394255492070035,0.6861614308541635,0.5533673040065133,-1.6679117933309968,0.8013686758832768,-0.9998974035892123,-2.0881081796719987,0.8342963242613708,-1.000841846252585,0.699787361178463,-1.1541115283034706,0.6099735464199318,-1.4190629582767205,1.2251613772597876,-1.3987435489603572,0.9842342580979905,0.3244012197678955,-0.716822310893269,-1.5588475925620195,1.009189825754649,-1.9871513284167084,0.2399053966038127,-2.104178410620597,0.5761804823961172,-1.4020744007946078,1.078854035287052,-0.9040348349163569,0.7602255155267351,-1.301878151341513,1.5892627032348676,-2.0982531538728098,1.3414926832561984,-1.8834656060180288,1.1888762431051478,0.5106832402445837,-0.7327216542756233,-1.0143445871435515,1.798270452079028,-1.7636398019563835,1.6216616903556729,1.1173165180015523,-1.4623050772126573,0.5689159724911133,-1.264630457403301,-0.7947007120292837,1.3500577330172057,-1.2381731452080689,1.3992201773988981,0.1510866032531963,-0.7657656742073703,-1.0163305720541234,1.0413152344029197,-1.3123027417761404,1.0606571507847549,-1.9318603005406412,0.6680320156593894,-1.5857918342692965,0.9325812286123011,0.9008258830932275,-1.5028903470471848,1.2122080100687402,-1.2651744758063674,-1.187969796489582,1.5657429442264637,-1.3710626502531313,0.5771901292217864,1.3964908114263133,-0.7834245780678846,0.23634958747250917,3.247712140080387,0.3057669233090494,2.925456002346195,2.497433086838541,0.24152700424144713,0.2572902987131523,2.371379950019872,-0.13544526402219975,2.202677971038039,-0.022110793875248783,2.6094901593693374,0.34570638021423566,2.7695896502365454,-0.1246415988070847,2.889823521444576,-0.3714059360477254,3.3439004218315245,0.26082766126323337,2.7450938833204424,3.014040095177483,0.5049171485438814,0.16869719423057394,2.0671567658070313,0.44192554090891895,2.139264165668133,2.6312910956108406,0.34457215274602143,2.8909699220893246,2.5537400132171455,-0.050117807211575174,0.2625696262699822,4.180342931168997,1.0667193042757932,2.587458767609755,0.2694071717900018,2.057794688531844,-0.16149193619261584,2.2172228203790185,-0.5266178421443218,3.0686838250973802,-0.028751736710745247,2.2399663356894877,2.9510519792449648,0.4385901363402142,-0.09216919843509006,2.958879993438446,0.5804958104127499,2.1373953548736115,0.382896396614614,2.709624058452175,-0.03792631677031811,2.7463761414042533,0.6301459644248858,2.1667131238304513,-0.2333203084667128,2.2073174071651938,-0.23477423423516638,3.059947272303723,-0.16859209112185428,2.495437524073865,0.18737199659362577,3.642545270185924,0.5322460787981093,3.1913911769308405,3.244827430783329,0.3825858037832823,3.0738843841061683,0.5485383422603067,2.265135254385657,2.4723416617428193,0.7877166785356743,0.4129510364869875,3.223243077940954,0.2624174444707503,3.1830191443342946,0.4111787811835054,2.774293818140802,0.4847209286608517,3.037643577019202,0.4040006602686237,2.8530125798246857,0.2844457685227064,3.099247948074835,0.2266836414280535,2.8569503666350733,0.5553083022111852,3.2642512772384475,0.7275988111344545,3.100767974385602,0.2759614447217655,2.9867347311579238,0.3116441966347238,2.9066920510185983,2.2701844341576107,0.8014205748456176,0.12857972414625976,2.8635445301616755,0.778529430470371,3.5312425970440473,0.5763563733541901,3.0855505619113703,2.3676903118529427,-0.14415468804436532,3.0566185917970823,-0.10735186169575138,2.3468065956857043,0.9144903619097083,3.3879297765119527,0.030550821404101088,3.241096627073967,0.2981460084782121,3.7746237109458645,1.121490387532699,3.075672963769818,0.6556531709266901,0.5620642253911223,3.085743414423838,0.5125267865782005,2.4837925310964866],\"xaxis\":\"x\",\"y\":[-2.0971919929977245,0.4121497031409808,0.30848539809838016,-0.15827772564724615,-2.5140204904923222,0.12644554937792038,-1.856133487164723,0.15078106691529064,-2.6572837169457784,0.19172241824563838,0.01409268939532887,-2.139845886641383,-0.14276205239492415,-2.464795263737837,-0.254639414101498,-2.1780410436310307,-0.14764826212951693,-1.7910164830897484,-1.6433448174201122,-0.10802186351176586,-2.0423070331463107,0.15619309519718885,-0.4484670936246223,-2.111242702197288,0.3285544165485253,-1.97343653540823,0.21523699759864393,-2.0281365874932398,0.5712692001152697,-2.424999948254546,-2.2655441204204916,-0.07477592309670285,-0.44061406519191165,-1.936352837533874,-0.06557282442490805,-1.6321005554735357,-0.1545153064658225,-1.8442676469588994,0.3184441370871653,-1.7258766005140196,-2.209668146874933,0.2019194207034912,-2.5123197221707985,0.25063315451490586,-1.8617532600953344,0.1846116158085796,-1.8112068012681481,-0.0796067488199325,-1.8182911489783524,0.3143978314657481,-1.8277326980771256,0.2812472614894609,-1.9631638561930438,0.33062618357969764,-2.352785834139884,0.43626327697987277,-1.595445184986871,0.1888527014339694,-1.547324115507543,0.8118270569291031,-1.9532770079441306,0.5145288806810291,-1.7347600620124703,-0.15090535782486358,-1.7608187954805081,0.6380247670515597,-1.6003575867296305,0.37624643088753085,-1.5478541434878148,0.7107047095199257,-2.2486470379439547,0.7259923112352273,-1.8055391484815664,0.3170091094415977,-1.1384920232948823,-0.05249662219098185,-2.018205664190809,0.2545283505553528,-2.320899675504662,-2.1870242531741457,-0.01193895613898962,-2.045779438049194,0.005145417543475337,0.4517853977652207,-1.2211801137404192,0.2964179410823925,-1.6292423157926341,0.2926568828604642,-1.4109191781786172,0.07700926446730755,-1.5460662628966348,0.32462523536473437,-1.6414210071593094,0.2920674978934558,-1.7631085178774322,0.5856776653037097,-2.2134875396035683,-0.03983583349370554,-2.1298310700309404,0.73276767873808,-2.287489534309411,0.2589072426375068,-1.532143057024654,0.9385791430694276,-2.069508557238663,0.33655106576416,-1.8215297437788316,-0.48603077728399763,-1.5055229224488786,0.35752864132071177,-2.2910165801136793,0.4333185166177343,-1.954060834435647,0.28926900447245574,-2.150553208040718,0.24915799853009982,-1.5052390360088868,0.6337298948318947,-1.7124628176579682,0.32573759040557804,-1.4962049299634108,0.43364743444022663,-1.0976471156770409,0.21628710556083883,-1.8912611057252584,0.1053683015374837,-1.4998184964489143,0.2605605961370017,-1.4549390384164569,0.2785254673058253,-2.0474678333143994,0.536107242574578,-1.4576143137036175,0.5792137788269555,-1.5337840033254941,0.7491248193783305,-1.3458531463667829,0.5084823094951437,-2.0343005116931034,-1.7511362101999748,-0.07000268877020135,0.34289338979396866,-1.668695081459491,0.4442697984330781,-1.4965423590639786,0.4390839649010623,-1.795170278662829,-1.8023986364291231,0.0877275055513223,-1.8608487762576833,0.6835402971204207,-0.026628788163685097,-1.3785903061480382,0.333584212923706,-1.9002184521299397,0.5634093764948099,-2.088875215313706,0.5281951614922604,-1.1780724188438019,0.6525230322863127,-1.6734488432047954,-2.063242350033053,0.47436571929868926,0.1628603903352109,-1.3085190559007382,0.33771407337366666,-1.420532660789322,0.5403858707844242,-1.8424205359354597,0.462110394845697,-1.524343510849088,0.5042095976333331,-1.582730346976632,0.4929544917628548,-1.5554671166003522,0.5699423052379622,-1.9271380839486618,0.6010226714578301,-1.3590078322130716,-1.6100141065564757,1.0466665930303432,0.47967820185117954,-1.6208902524092081,0.6678614797102763,-1.5236180696579777,-1.4938143196625737,0.4840714195375699,-1.7353411130495824,0.791168713915382,0.6434445884686324,-1.2315331949735493,0.43439873876977125,-1.4003116556176471,-1.8665669362734616,0.8560437517407071,1.0492801278912411,-1.4932273938958691,0.6580610006210419,-1.6574097348446926,0.41325678465037924,-1.6201435542619036,0.7436703209361101,-1.7442292906333854,-1.4641543927653493,0.0037444508020297736,-1.5313654091653857,0.8512711090026288,0.8073765368257677,-1.5242512516024702,0.5208097686217045,-1.4899769326914567,-1.271506505656273,0.4479679330518995,2.5509909295400077,0.3682557500147217,2.2808457301791147,0.4492620380675475,0.49161132910974265,2.453655908121705,2.170119449274686,0.2671805888512204,2.3729471231454653,0.13831260022277497,2.4050087573763843,0.07175134825651452,2.484624659892977,0.5343379752764873,2.0163778688844674,0.293421264232971,2.283284938478823,0.6399523583488299,2.1713881458094955,0.4648748132063199,0.7343724292577054,2.330208069780066,2.1718383633602447,-0.018640022000259607,2.730251301561979,0.20851934924808999,0.3964049725090446,2.2442853916517596,0.4271573925927497,0.35493379551368165,2.183303090666577,2.166281353335927,0.3962755923943206,2.4499181934344736,0.05183956722588929,2.4818604804850546,-0.38695292081327237,2.2889772957596004,-0.02999410654432587,2.142696987312527,0.34553591683791296,2.3124942585521318,0.24140179510889528,0.2919172700817825,2.512762649190232,2.2302457286913517,0.32304286999940673,2.6815278824709017,0.020125047375200298,2.3056908730476713,0.7189238041054217,2.113093958201735,0.5052827306368386,2.4064837110459334,0.193716744130559,2.1800720604249193,0.3159871734976764,2.01660368353644,0.5218242382487694,2.2142066203312503,0.45069726802837146,2.3676939371762797,0.6408203978428337,2.4545858145964505,0.20832261669619734,0.3920816930146057,2.4367137942626687,0.5989635921964549,2.1828690663319454,0.16573424202015985,0.220009752734946,2.3506708388861344,2.148808189016588,0.461029228469516,2.2415283117687164,0.23729941186581982,2.4931953967850538,0.15813611033950356,2.2469260144463767,0.3753584304468722,2.2093298935610637,0.28089230567546497,2.4221952625430383,0.0021655254985937984,2.3054010610843867,0.6922194814942371,2.433508753713923,0.1508597461627599,2.269522291009881,0.04274215747939704,2.213519744204627,0.2790141600040266,2.200616634126871,0.36651684752032165,0.02804827671854908,2.454717493214665,2.0686814871672214,0.11097947327298614,2.285644564925361,0.18431827386636815,2.0478309499043097,0.6693900280351935,0.0001775156112227049,2.0297288638671453,0.2960356950194199,2.2037078637454046,0.20400522110660876,2.2265459458617434,0.5258391707427216,1.9586584021600135,0.3479745335491993,2.3737866379854746,0.5850906912384133,0.9748849375972803,0.27265763692446005,2.577631948450175,2.387537774181315,0.3990180423359983,2.21849103790018,-0.013161612967524338],\"yaxis\":\"y\",\"type\":\"scatter\"}],                        {\"template\":{\"data\":{\"histogram2dcontour\":[{\"type\":\"histogram2dcontour\",\"colorbar\":{\"outlinewidth\":0,\"ticks\":\"\"},\"colorscale\":[[0.0,\"#0d0887\"],[0.1111111111111111,\"#46039f\"],[0.2222222222222222,\"#7201a8\"],[0.3333333333333333,\"#9c179e\"],[0.4444444444444444,\"#bd3786\"],[0.5555555555555556,\"#d8576b\"],[0.6666666666666666,\"#ed7953\"],[0.7777777777777778,\"#fb9f3a\"],[0.8888888888888888,\"#fdca26\"],[1.0,\"#f0f921\"]]}],\"choropleth\":[{\"type\":\"choropleth\",\"colorbar\":{\"outlinewidth\":0,\"ticks\":\"\"}}],\"histogram2d\":[{\"type\":\"histogram2d\",\"colorbar\":{\"outlinewidth\":0,\"ticks\":\"\"},\"colorscale\":[[0.0,\"#0d0887\"],[0.1111111111111111,\"#46039f\"],[0.2222222222222222,\"#7201a8\"],[0.3333333333333333,\"#9c179e\"],[0.4444444444444444,\"#bd3786\"],[0.5555555555555556,\"#d8576b\"],[0.6666666666666666,\"#ed7953\"],[0.7777777777777778,\"#fb9f3a\"],[0.8888888888888888,\"#fdca26\"],[1.0,\"#f0f921\"]]}],\"heatmap\":[{\"type\":\"heatmap\",\"colorbar\":{\"outlinewidth\":0,\"ticks\":\"\"},\"colorscale\":[[0.0,\"#0d0887\"],[0.1111111111111111,\"#46039f\"],[0.2222222222222222,\"#7201a8\"],[0.3333333333333333,\"#9c179e\"],[0.4444444444444444,\"#bd3786\"],[0.5555555555555556,\"#d8576b\"],[0.6666666666666666,\"#ed7953\"],[0.7777777777777778,\"#fb9f3a\"],[0.8888888888888888,\"#fdca26\"],[1.0,\"#f0f921\"]]}],\"heatmapgl\":[{\"type\":\"heatmapgl\",\"colorbar\":{\"outlinewidth\":0,\"ticks\":\"\"},\"colorscale\":[[0.0,\"#0d0887\"],[0.1111111111111111,\"#46039f\"],[0.2222222222222222,\"#7201a8\"],[0.3333333333333333,\"#9c179e\"],[0.4444444444444444,\"#bd3786\"],[0.5555555555555556,\"#d8576b\"],[0.6666666666666666,\"#ed7953\"],[0.7777777777777778,\"#fb9f3a\"],[0.8888888888888888,\"#fdca26\"],[1.0,\"#f0f921\"]]}],\"contourcarpet\":[{\"type\":\"contourcarpet\",\"colorbar\":{\"outlinewidth\":0,\"ticks\":\"\"}}],\"contour\":[{\"type\":\"contour\",\"colorbar\":{\"outlinewidth\":0,\"ticks\":\"\"},\"colorscale\":[[0.0,\"#0d0887\"],[0.1111111111111111,\"#46039f\"],[0.2222222222222222,\"#7201a8\"],[0.3333333333333333,\"#9c179e\"],[0.4444444444444444,\"#bd3786\"],[0.5555555555555556,\"#d8576b\"],[0.6666666666666666,\"#ed7953\"],[0.7777777777777778,\"#fb9f3a\"],[0.8888888888888888,\"#fdca26\"],[1.0,\"#f0f921\"]]}],\"surface\":[{\"type\":\"surface\",\"colorbar\":{\"outlinewidth\":0,\"ticks\":\"\"},\"colorscale\":[[0.0,\"#0d0887\"],[0.1111111111111111,\"#46039f\"],[0.2222222222222222,\"#7201a8\"],[0.3333333333333333,\"#9c179e\"],[0.4444444444444444,\"#bd3786\"],[0.5555555555555556,\"#d8576b\"],[0.6666666666666666,\"#ed7953\"],[0.7777777777777778,\"#fb9f3a\"],[0.8888888888888888,\"#fdca26\"],[1.0,\"#f0f921\"]]}],\"mesh3d\":[{\"type\":\"mesh3d\",\"colorbar\":{\"outlinewidth\":0,\"ticks\":\"\"}}],\"scatter\":[{\"fillpattern\":{\"fillmode\":\"overlay\",\"size\":10,\"solidity\":0.2},\"type\":\"scatter\"}],\"parcoords\":[{\"type\":\"parcoords\",\"line\":{\"colorbar\":{\"outlinewidth\":0,\"ticks\":\"\"}}}],\"scatterpolargl\":[{\"type\":\"scatterpolargl\",\"marker\":{\"colorbar\":{\"outlinewidth\":0,\"ticks\":\"\"}}}],\"bar\":[{\"error_x\":{\"color\":\"#2a3f5f\"},\"error_y\":{\"color\":\"#2a3f5f\"},\"marker\":{\"line\":{\"color\":\"#E5ECF6\",\"width\":0.5},\"pattern\":{\"fillmode\":\"overlay\",\"size\":10,\"solidity\":0.2}},\"type\":\"bar\"}],\"scattergeo\":[{\"type\":\"scattergeo\",\"marker\":{\"colorbar\":{\"outlinewidth\":0,\"ticks\":\"\"}}}],\"scatterpolar\":[{\"type\":\"scatterpolar\",\"marker\":{\"colorbar\":{\"outlinewidth\":0,\"ticks\":\"\"}}}],\"histogram\":[{\"marker\":{\"pattern\":{\"fillmode\":\"overlay\",\"size\":10,\"solidity\":0.2}},\"type\":\"histogram\"}],\"scattergl\":[{\"type\":\"scattergl\",\"marker\":{\"colorbar\":{\"outlinewidth\":0,\"ticks\":\"\"}}}],\"scatter3d\":[{\"type\":\"scatter3d\",\"line\":{\"colorbar\":{\"outlinewidth\":0,\"ticks\":\"\"}},\"marker\":{\"colorbar\":{\"outlinewidth\":0,\"ticks\":\"\"}}}],\"scattermapbox\":[{\"type\":\"scattermapbox\",\"marker\":{\"colorbar\":{\"outlinewidth\":0,\"ticks\":\"\"}}}],\"scatterternary\":[{\"type\":\"scatterternary\",\"marker\":{\"colorbar\":{\"outlinewidth\":0,\"ticks\":\"\"}}}],\"scattercarpet\":[{\"type\":\"scattercarpet\",\"marker\":{\"colorbar\":{\"outlinewidth\":0,\"ticks\":\"\"}}}],\"carpet\":[{\"aaxis\":{\"endlinecolor\":\"#2a3f5f\",\"gridcolor\":\"white\",\"linecolor\":\"white\",\"minorgridcolor\":\"white\",\"startlinecolor\":\"#2a3f5f\"},\"baxis\":{\"endlinecolor\":\"#2a3f5f\",\"gridcolor\":\"white\",\"linecolor\":\"white\",\"minorgridcolor\":\"white\",\"startlinecolor\":\"#2a3f5f\"},\"type\":\"carpet\"}],\"table\":[{\"cells\":{\"fill\":{\"color\":\"#EBF0F8\"},\"line\":{\"color\":\"white\"}},\"header\":{\"fill\":{\"color\":\"#C8D4E3\"},\"line\":{\"color\":\"white\"}},\"type\":\"table\"}],\"barpolar\":[{\"marker\":{\"line\":{\"color\":\"#E5ECF6\",\"width\":0.5},\"pattern\":{\"fillmode\":\"overlay\",\"size\":10,\"solidity\":0.2}},\"type\":\"barpolar\"}],\"pie\":[{\"automargin\":true,\"type\":\"pie\"}]},\"layout\":{\"autotypenumbers\":\"strict\",\"colorway\":[\"#636efa\",\"#EF553B\",\"#00cc96\",\"#ab63fa\",\"#FFA15A\",\"#19d3f3\",\"#FF6692\",\"#B6E880\",\"#FF97FF\",\"#FECB52\"],\"font\":{\"color\":\"#2a3f5f\"},\"hovermode\":\"closest\",\"hoverlabel\":{\"align\":\"left\"},\"paper_bgcolor\":\"white\",\"plot_bgcolor\":\"#E5ECF6\",\"polar\":{\"bgcolor\":\"#E5ECF6\",\"angularaxis\":{\"gridcolor\":\"white\",\"linecolor\":\"white\",\"ticks\":\"\"},\"radialaxis\":{\"gridcolor\":\"white\",\"linecolor\":\"white\",\"ticks\":\"\"}},\"ternary\":{\"bgcolor\":\"#E5ECF6\",\"aaxis\":{\"gridcolor\":\"white\",\"linecolor\":\"white\",\"ticks\":\"\"},\"baxis\":{\"gridcolor\":\"white\",\"linecolor\":\"white\",\"ticks\":\"\"},\"caxis\":{\"gridcolor\":\"white\",\"linecolor\":\"white\",\"ticks\":\"\"}},\"coloraxis\":{\"colorbar\":{\"outlinewidth\":0,\"ticks\":\"\"}},\"colorscale\":{\"sequential\":[[0.0,\"#0d0887\"],[0.1111111111111111,\"#46039f\"],[0.2222222222222222,\"#7201a8\"],[0.3333333333333333,\"#9c179e\"],[0.4444444444444444,\"#bd3786\"],[0.5555555555555556,\"#d8576b\"],[0.6666666666666666,\"#ed7953\"],[0.7777777777777778,\"#fb9f3a\"],[0.8888888888888888,\"#fdca26\"],[1.0,\"#f0f921\"]],\"sequentialminus\":[[0.0,\"#0d0887\"],[0.1111111111111111,\"#46039f\"],[0.2222222222222222,\"#7201a8\"],[0.3333333333333333,\"#9c179e\"],[0.4444444444444444,\"#bd3786\"],[0.5555555555555556,\"#d8576b\"],[0.6666666666666666,\"#ed7953\"],[0.7777777777777778,\"#fb9f3a\"],[0.8888888888888888,\"#fdca26\"],[1.0,\"#f0f921\"]],\"diverging\":[[0,\"#8e0152\"],[0.1,\"#c51b7d\"],[0.2,\"#de77ae\"],[0.3,\"#f1b6da\"],[0.4,\"#fde0ef\"],[0.5,\"#f7f7f7\"],[0.6,\"#e6f5d0\"],[0.7,\"#b8e186\"],[0.8,\"#7fbc41\"],[0.9,\"#4d9221\"],[1,\"#276419\"]]},\"xaxis\":{\"gridcolor\":\"white\",\"linecolor\":\"white\",\"ticks\":\"\",\"title\":{\"standoff\":15},\"zerolinecolor\":\"white\",\"automargin\":true,\"zerolinewidth\":2},\"yaxis\":{\"gridcolor\":\"white\",\"linecolor\":\"white\",\"ticks\":\"\",\"title\":{\"standoff\":15},\"zerolinecolor\":\"white\",\"automargin\":true,\"zerolinewidth\":2},\"scene\":{\"xaxis\":{\"backgroundcolor\":\"#E5ECF6\",\"gridcolor\":\"white\",\"linecolor\":\"white\",\"showbackground\":true,\"ticks\":\"\",\"zerolinecolor\":\"white\",\"gridwidth\":2},\"yaxis\":{\"backgroundcolor\":\"#E5ECF6\",\"gridcolor\":\"white\",\"linecolor\":\"white\",\"showbackground\":true,\"ticks\":\"\",\"zerolinecolor\":\"white\",\"gridwidth\":2},\"zaxis\":{\"backgroundcolor\":\"#E5ECF6\",\"gridcolor\":\"white\",\"linecolor\":\"white\",\"showbackground\":true,\"ticks\":\"\",\"zerolinecolor\":\"white\",\"gridwidth\":2}},\"shapedefaults\":{\"line\":{\"color\":\"#2a3f5f\"}},\"annotationdefaults\":{\"arrowcolor\":\"#2a3f5f\",\"arrowhead\":0,\"arrowwidth\":1},\"geo\":{\"bgcolor\":\"white\",\"landcolor\":\"#E5ECF6\",\"subunitcolor\":\"white\",\"showland\":true,\"showlakes\":true,\"lakecolor\":\"white\"},\"title\":{\"x\":0.05},\"mapbox\":{\"style\":\"light\"}}},\"xaxis\":{\"anchor\":\"y\",\"domain\":[0.0,1.0],\"title\":{\"text\":\"PC1\"}},\"yaxis\":{\"anchor\":\"x\",\"domain\":[0.0,1.0],\"title\":{\"text\":\"PC2\"}},\"coloraxis\":{\"colorbar\":{\"title\":{\"text\":\"cluster\"}},\"colorscale\":[[0.0,\"#0d0887\"],[0.1111111111111111,\"#46039f\"],[0.2222222222222222,\"#7201a8\"],[0.3333333333333333,\"#9c179e\"],[0.4444444444444444,\"#bd3786\"],[0.5555555555555556,\"#d8576b\"],[0.6666666666666666,\"#ed7953\"],[0.7777777777777778,\"#fb9f3a\"],[0.8888888888888888,\"#fdca26\"],[1.0,\"#f0f921\"]]},\"legend\":{\"tracegroupgap\":0},\"margin\":{\"t\":60},\"height\":600,\"width\":800},                        {\"responsive\": true}                    ).then(function(){\n",
       "                            \n",
       "var gd = document.getElementById('7751798b-3c5f-4b22-9a61-1a04c9368515');\n",
       "var x = new MutationObserver(function (mutations, observer) {{\n",
       "        var display = window.getComputedStyle(gd).display;\n",
       "        if (!display || display === 'none') {{\n",
       "            console.log([gd, 'removed!']);\n",
       "            Plotly.purge(gd);\n",
       "            observer.disconnect();\n",
       "        }}\n",
       "}});\n",
       "\n",
       "// Listen for the removal of the full notebook cells\n",
       "var notebookContainer = gd.closest('#notebook-container');\n",
       "if (notebookContainer) {{\n",
       "    x.observe(notebookContainer, {childList: true});\n",
       "}}\n",
       "\n",
       "// Listen for the clearing of the current output cell\n",
       "var outputEl = gd.closest('.output');\n",
       "if (outputEl) {{\n",
       "    x.observe(outputEl, {childList: true});\n",
       "}}\n",
       "\n",
       "                        })                };                });            </script>        </div>"
      ]
     },
     "metadata": {},
     "output_type": "display_data"
    }
   ],
   "source": [
    "# If you want more information about each point you can use plotly:\n",
    "import plotly.express as px\n",
    "fig = px.scatter(df_dummy, x='PC1', y='PC2', color='cluster')\n",
    "fig.update_layout(height=600, width=800)\n",
    "fig.show()"
   ]
  }
 ],
 "metadata": {
  "kernelspec": {
   "display_name": "Python 3 (ipykernel)",
   "language": "python",
   "name": "python3"
  },
  "language_info": {
   "codemirror_mode": {
    "name": "ipython",
    "version": 3
   },
   "file_extension": ".py",
   "mimetype": "text/x-python",
   "name": "python",
   "nbconvert_exporter": "python",
   "pygments_lexer": "ipython3",
   "version": "3.11.8"
  }
 },
 "nbformat": 4,
 "nbformat_minor": 5
}
